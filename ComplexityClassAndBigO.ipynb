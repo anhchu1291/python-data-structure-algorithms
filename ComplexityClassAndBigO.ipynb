{
 "cells": [
  {
   "cell_type": "markdown",
   "metadata": {},
   "source": [
    "# Complexity Class and BigO Analysis of algorithms\n",
    "\n",
    "- Understand the general complexity and efficiency of the algorithm\n",
    "- Identify the runtime efficiency in Big O Notation\n",
    "- Complexity Classification for the algorithms\n",
    "\n",
    "Justify and explain the reasoning for each aspect listed above for the following algorithm/problem:\n",
    "1. [Insertion Sort](https://www.geeksforgeeks.org/insertion-sort/2)\n",
    "2. [Traveling Salesman Problem](https://mathworld.wolfram.com/TravelingSalesmanProblem.html)\n",
    "3. Finding the sum of all values in a 3-D Array (n x n x n)\n",
    "4. [Radix Sort](https://www.geeksforgeeks.org/radix-sort/5)\n",
    "5. Brute Force Password Cracker - Assume that your password alphabet is english letters (capital and lowercase) and numbers"
   ]
  },
  {
   "cell_type": "markdown",
   "metadata": {},
   "source": [
    "### 1. Insertion Sort\n",
    "1. iterate through the array from 1 to n position ( i: 1 -> len(arr)-1), \n",
    "2. for each iteration, compare current value arr[i] to the previous values (start from j = i-1 to position where arr[j]<arr[i])\n",
    "    * (1) If the previous value is already smaller than current value, no addtional comparisons will happen, current value doesn't change\n",
    "    * (2) if previous value is bigger than current value, continue the 2nd loop to check other previous values\n",
    "        * until find the position where previous value <= current value, insert current value at that position+1 (j+1). \n",
    "        * move all elements one position to the right to make space to insert current value. \n",
    "    \n",
    "3. return arr\n",
    "        \n",
    "**Efficiency**: it takes O(n) to loop through the array. In each iteration: compare current value to previous values while they are still bigger than the current value. \n",
    "\n",
    "If the previous value is already smaller than current value, no addtional comparisons will happen. Therefore, if the array is already sorted ascending, the best case will be O(n). \n",
    "\n",
    "However, if the array is already sorted descending, the second loop will take additional O(n) for each iteration. So the worst case scenario will have time complexity of O(n^2). \n",
    "\n",
    "Swapping happening in place so O(1) space. \n",
    "     \n",
    "**Complexity Class:** this is a P-class problem as it takes at most O(n^2) to complete, which is polynomial time on a normal deterministic machine"
   ]
  },
  {
   "cell_type": "code",
   "execution_count": 1,
   "metadata": {},
   "outputs": [
    {
     "name": "stdout",
     "output_type": "stream",
     "text": [
      "time: 6.9141387939453125e-06 seconds!\n",
      "[2, 20, 24, 45, 75, 77, 90, 402]\n",
      "time: 5.9604644775390625e-06 seconds!\n",
      "[-875, -402, 20, 90, 224, 332, 777, 1045]\n",
      "time: 5.0067901611328125e-06 seconds!\n",
      "[-4, 0, 1, 2, 3, 5]\n",
      "time: 4.76837158203125e-06 seconds!\n",
      "[0, 1, 2, 3, 4, 5]\n",
      "[1]\n",
      "[]\n"
     ]
    }
   ],
   "source": [
    "import time\n",
    "def insertionSort(arr):\n",
    "    '''\n",
    "    sort an array in ascending order\n",
    "    using 2 loops: O(n^2) time, O(1) space\n",
    "    '''\n",
    "    start = time.time()\n",
    "    # checking edge case\n",
    "    if len(arr) <= 1:\n",
    "        return arr\n",
    "    \n",
    "    for i in range(1, len(arr)): # O(n)\n",
    "        #print('iter', i, arr)\n",
    "        temp = arr[i]\n",
    "        j = i-1\n",
    "        while j >= 0 and arr[j] > temp: # can go up to O(n) when we have to check all previous elements of i\n",
    "            #print(arr)\n",
    "            arr[j+1]= arr[j]\n",
    "            j -= 1\n",
    "            \n",
    "        arr[j+1] = temp \n",
    "        \n",
    "    end = time.time()\n",
    "    print('time:', end-start, 'seconds!')\n",
    "    return arr\n",
    "\n",
    "print(insertionSort([20, 45, 75, 90, 402, 24, 2, 77]))\n",
    "print(insertionSort([20, 1045, -875, 90, -402, 224, 332, 777]))\n",
    "print(insertionSort([5,-4,3,2,1,0]))\n",
    "print(insertionSort([5,2,1,4,3,0]))\n",
    "print(insertionSort([1]))\n",
    "print(insertionSort([]))\n",
    "\n"
   ]
  },
  {
   "cell_type": "markdown",
   "metadata": {},
   "source": [
    "### 2. Travelling Salesman\n",
    "Problem Statement: an optimization problem where given a **complete graph with weighted edge** as an adjacency matrix, what is the path that visits each vertex once and return to the starting point, which also has the **minimum cost** ?\n",
    "\n",
    "Adjacency Matrix:\n",
    " graph = \n",
    " \n",
    "| A  | B  | C  | D  |\n",
    "|----|----|----|----|\n",
    "| 0  | 10 | 15 | 20 |\n",
    "| 10 | 0  | 35 | 25 |\n",
    "| 15 | 35 | 0  | 30 |\n",
    "| 20 | 25 | 30 | 0  |\n",
    "\n",
    "**Efficiency:** (naive/brute force approach) \n",
    "Generate all combination of paths and calculate the cost of each path. From the starting vertex, we have n-1 options to choose, 2nd vertex has n-2 options, and so on. So total (n-1)! options. With 4 vertexes, there will be (4-1)! = 6 possible paths combination.\n",
    "    \n",
    "    Example: starting point is A:\n",
    "    * ABCDA: 10 + 35 + 30 + 20 = 95\n",
    "    * ABDCA: 10 + 25 + 30 + 15 = 80\n",
    "    * ACBDA: 15 + 35 + 25 + 20 = 95\n",
    "    * ACDBA: 15 + 30 + 25 + 10 = 80\n",
    "    * ADBCA: 20 + 25 + 35 + 15 = 95\n",
    "    * ADCBA: 20 + 30 + 35 + 10 = 95\n",
    "Time complexity is O(n)! for naive brute-force solution\n",
    "\n",
    "If used dynamic programming, complexity will be to O(n^2*2^n), which is a bit better than factorial runtime for very large n, but this solution still runs in exponential time and takes exponential space. ([reference](https://www.tutorialspoint.com/design_and_analysis_of_algorithms/design_and_analysis_of_algorithms_travelling_salesman_problem.htm)) \n",
    "\n",
    "**Complexity Class:** \n",
    "The optimization version of TSP is an NP Problem with no polynomial Time known on a Deterministic machine. It's an NP-hard problem because there is an NP-complete problem (Y) reducible to it (X) in polynomial time. It's been proved that the Hamilton cycle problem - Y (a classic NP-complete problem) can be reduced to a TSP problem - X ([proof that TSP is NP hard](https://www.geeksforgeeks.org/proof-that-traveling-salesman-problem-is-np-hard/?ref=rp)) \n",
    "\n",
    "Besides, the decision version of TSP is an NP-complete problem. \"In the theory of computational complexity, the decision version of the TSP (where given a length L, the task is to decide whether the graph has a tour of at most L) belongs to the class of NP-complete problems.\" [reference](https://en.wikipedia.org/wiki/Travelling_salesman_problem#:~:text=The%20travelling%20purchaser%20problem%20and,class%20of%20NP%2Dcomplete%20problems). \n",
    "\n",
    "<img src='p_np_hard_complete.png'>\n"
   ]
  },
  {
   "cell_type": "code",
   "execution_count": 2,
   "metadata": {},
   "outputs": [
    {
     "name": "stdout",
     "output_type": "stream",
     "text": [
      "80\n",
      "80\n",
      "80\n",
      "80\n"
     ]
    }
   ],
   "source": [
    "def tspBF(graph, s):\n",
    "    '''\n",
    "    graph: is given as an adjacency matrix\n",
    "    s: index of the source in the adjacency matrix \n",
    "    output: the cost of the shortest path to complete the entire route\n",
    "    '''\n",
    "    from itertools import permutations\n",
    "    from sys import maxsize\n",
    "    \n",
    "    # identify vertexes that are not starting point\n",
    "    # create all permutations of the vertexes \n",
    "    # example V = [1,2,3] => return [[1,2,3],[1,3,2],[2,1,3],[2,3,1],[3,1,2],[3,2,1]]\n",
    "    \n",
    "    V = [i for i in range(len(graph[0])) if i != s]\n",
    "    V = list(permutations(V))\n",
    "    \n",
    "    # compare the min cost of all permutations\n",
    "    minPath = maxsize  # initiate minPath value with the maximum integer in python system library\n",
    "    \n",
    "    for l in V: # O(n-1)! there are (n-1)! lists in V after the permutations \n",
    "        # calculate path cost\n",
    "        c = 0\n",
    "        k = s \n",
    "        for i in l: # O(n)\n",
    "            c += graph[k][i]\n",
    "            # update k to the next starting point\n",
    "            k = i \n",
    "            \n",
    "        # add cost of going back to starting point after the iteration\n",
    "        c += graph[k][s] \n",
    "        minPath = min(c, minPath)\n",
    "        \n",
    "    return minPath\n",
    "\n",
    "\n",
    "graph = [[0, 10, 15, 20], [10, 0, 35, 25],[15, 35, 0, 30], [20, 25, 30, 0]]\n",
    "\n",
    "print(tspBF(graph,0))\n",
    "print(tspBF(graph,1))\n",
    "print(tspBF(graph,2))\n",
    "print(tspBF(graph,3))"
   ]
  },
  {
   "cell_type": "markdown",
   "metadata": {},
   "source": [
    "### 3. Sum of 3-D array (n x n x n)\n",
    "\n",
    "Suppose n = 3 \n",
    "\n",
    "    [[[0, 0, 0], [0, 0, 0], [0, 0, 0]],\n",
    "     [[0, 0, 0], [0, 0, 0], [0, 0, 0]],\n",
    "     [[0, 0, 0], [0, 0, 0], [0, 0, 0]]]\n",
    " \n",
    "**Efficiency:**\n",
    "    * Time Complexity is O(n^3) as for each iteration of rows (n), we have n iterations of columns. And for each iteration of columns, we have n iteration of values in list\n",
    "    * Space Complexity is O(1). No extra data structure is used, only 1 local variable\n",
    "    \n",
    "**Complexity Class:** P-class problem because it can be completed in n^3, which is polynomial time\n"
   ]
  },
  {
   "cell_type": "code",
   "execution_count": 3,
   "metadata": {},
   "outputs": [
    {
     "name": "stdout",
     "output_type": "stream",
     "text": [
      "87\n"
     ]
    }
   ],
   "source": [
    "def sum3D(arr):\n",
    "    total = 0\n",
    "    for rows in arr: # O(n) time\n",
    "        for column in rows: # O(n) time\n",
    "            for val in column: # O(n) time\n",
    "                total += val \n",
    "                \n",
    "    return total\n",
    "    \n",
    "arr = [[[1,2,3], [4, 5, 6], [-7, -8, -9]], [[1, 2, 3], [4, 5, 6], [7, 8, 9]], [[1, 2, 3], [4, 5, 6], [7, 8, 9]]]\n",
    "print(sum3D(arr))\n",
    "\n",
    "# test\n",
    "import numpy as np\n",
    "assert np.sum(arr) == sum3D(arr)"
   ]
  },
  {
   "cell_type": "markdown",
   "metadata": {},
   "source": [
    "### 4. Radix Sort (with counting sort as subroutine)\n",
    "   *not applicable for array of non-integer numbers*\n",
    "\n",
    "Example: arr = [20, 45, 75, 90, 402, 24, 2, 77]\n",
    "\n",
    "1. initiate a countList of 10 elements (0->9) to count digit occurence in nums, starting from the least significant digit; then calculate the prefix sum or cummulative sum of the digit count\n",
    "    * **countList = {0:2, 1:0, 2:2, 3:0, 4:1, 5:2, 6:0, 7:1, 8:0, 9:0}** \n",
    "        * *(20, 90 both have 0 at the last digit so 0 has count 2)*\n",
    "    * **countList (prefixSum) = {0:2, 1:2, 2:4, 3:4, 4:5, 5:7, 6:7, 7:8, 8:8, 9:8}**\n",
    "        * *(prefix sum provides the index of a number that ended in the respective digit in the new output array). For example, last element that ended in 7 will have the index of 8-1 = 7 in the new output array*\n",
    "        \n",
    "  \n",
    "2. construct the intermediate output array: outputList of length = len(arr)\n",
    "    * iterate through the initial array from right to left (from 77 -> 20)\n",
    "    * find the respective index of each element in countList of prefix Sum\n",
    "    * add the element to the output list at the respective index\n",
    "    \n",
    "    \n",
    "3. continue the previous 2 steps until running out of digits in the max value of the arr. **Remember to copy outputList to array before each new iteration, and reset countList and nums**\n",
    "\n",
    "> To take care of negative number, add all the values in input array with the max absolute value in the array\n",
    "\n",
    "> Example: arr = [-5,4,3] => add abs(-5) to all values in the input array to create input [0, 9, 8]\n",
    "\n",
    "**Complexity:** \n",
    "    * Time Complexity is O(d*(n+b)) where d is the digit length of max value in the array, n is the number of elements in the array, b is the base of the values in the array. \n",
    "    * Space Complexity is O(n+b) for the external output list of n elements and countList of b elements\n",
    "    \n",
    "**Complexity Class:** This is a P class problem as solutions of polynomial time found (in fact, it can be solved in linear time if range of digits is small enough)"
   ]
  },
  {
   "cell_type": "code",
   "execution_count": 4,
   "metadata": {},
   "outputs": [
    {
     "name": "stdout",
     "output_type": "stream",
     "text": [
      "time: 5.6743621826171875e-05 seconds!\n",
      "[2, 20, 24, 45, 75, 77, 90, 402]\n",
      "time: 0.00011181831359863281 seconds!\n",
      "[-875, -402, 20, 90, 224, 332, 777, 1045]\n",
      "time: 2.09808349609375e-05 seconds!\n",
      "[20]\n",
      "[]\n"
     ]
    }
   ],
   "source": [
    "import time\n",
    "\n",
    "def getDigit(num, i):\n",
    "    '''\n",
    "    obtain the digit at index i of the number\n",
    "    '''\n",
    "    return (num//10**i)%10\n",
    "\n",
    "def radixSort(nums):\n",
    "    \n",
    "    start = time.time()\n",
    "    # check edge case\n",
    "    if len(nums) == 0:\n",
    "        return nums\n",
    "    \n",
    "    \n",
    "    maxAbs = max([abs(num) for num in nums])\n",
    "    nums = [maxAbs + val for val in nums]  # O(n) time to rescontruct num, this will take care of negative value\n",
    "    maxVal = max(nums)\n",
    "    \n",
    "    i = 0\n",
    "    while i < len(str(maxVal)): # O(d) where d is the number of digits in the max value of nums after converting\n",
    "\n",
    "        countList = [0]*10\n",
    "        output = [None]*len(nums)\n",
    "    \n",
    "        for val in nums: # O(n)\n",
    "            digit = getDigit(val,i)       \n",
    "            countList[digit] += 1\n",
    "     \n",
    "        #calculate prefix sum\n",
    "        # O(b) with b is the base of the values in nums (base is 10: 0->9 in this case)\n",
    "        countList = [sum(countList[:j+1]) for j in range(len(countList))] \n",
    "        \n",
    "        # construct output from countList of indexes\n",
    "        for val in reversed(nums): # O(n)\n",
    "            digit = getDigit(val,i)\n",
    "            idx = countList[digit]-1\n",
    "            countList[digit] -= 1\n",
    "            output[idx] = val\n",
    "\n",
    "        nums = output  # O(n) to copy data from outputList to nums\n",
    "        \n",
    "        i+=1\n",
    "    nums = [val - maxAbs for val in nums]\n",
    "    end = time.time()\n",
    "    print('time:', end-start, 'seconds!')\n",
    "    return nums\n",
    "    \n",
    "print(radixSort([20, 45, 75, 90, 402, 24, 2, 77]))\n",
    "print(radixSort([20, 1045, -875, 90, -402, 224, 332, 777]))\n",
    "print(radixSort([20]))\n",
    "print(radixSort([]))\n",
    "             "
   ]
  },
  {
   "cell_type": "markdown",
   "metadata": {},
   "source": [
    "### 5. Brute Force Password Cracker\n",
    "Reference: [cyan-coding](https://github.com/CyanCoding/Brute-Force-Password-Cracker/blob/master/Python/main.py)\n",
    "\n",
    "**Efficiency:**\n",
    "Assume that the password only consists of alphabet is english letters (capital and lowercase) and numbers, no special characters. For each position in the password, we will have 62 options to choose from (10 + 26 + 26 = 62), and each letter can be chosen multiple times for a position. Therefore, the set of possible combinations: **62^n or ~2^14** where **n** is the length of the password. Space complexity is O(1) as there's no addtional data structure used.\n",
    "\n",
    ">**Note:** in the below particular implementation, the closer the chars in the password are to the beginning of the string set, the faster the cracking time becomes. (Example: 2 passwords of the same length of 4: \"1111\" took 240k tries to crack, while ZZZZ took 15 millions tries, or 62^4)\n",
    "    \n",
    "**Complexity Class:**\n",
    "As this algorithm will run in exponential time where all the letters have to be checked for each position of the password (we have to try all possible combinations), but after a solution is found, it can be verified in polynomial time; therefore, this is an NP-class problem. \n"
   ]
  },
  {
   "cell_type": "code",
   "execution_count": 5,
   "metadata": {},
   "outputs": [
    {
     "name": "stdout",
     "output_type": "stream",
     "text": [
      "Password >1111\n",
      "CyanCoding's BFPC cracked the password 1111 in 242235 tries and 0.05437493324279785 seconds!\n"
     ]
    }
   ],
   "source": [
    "# I didn't code this myself. The code came from \n",
    "# https://github.com/CyanCoding/Brute-Force-Password-Cracker/blob/master/Python/main.py\n",
    "# Assume that your password alphabet is english letters (capital and lowercase) and numbers\n",
    "# assume there are max 8 characters in the password length\n",
    "\n",
    "# Imports\n",
    "import itertools\n",
    "import time\n",
    "\n",
    "\n",
    "# Brute force function\n",
    "def tryPassword(passwordSet, stringTypeSet):\n",
    "    start = time.time()\n",
    "    chars = stringTypeSet\n",
    "    attempts = 0\n",
    "    for i in range(1, 9): \n",
    "        for letter in itertools.product(chars, repeat=i): \n",
    "            attempts += 1\n",
    "            letter = ''.join(letter)\n",
    "            if letter == passwordSet:\n",
    "                end = time.time()\n",
    "                distance = end - start\n",
    "                return (attempts, distance)\n",
    "\n",
    "\n",
    "password = input(\"Password >\")\n",
    "# Allowed characters\n",
    "stringType = \"1234567890abcdefghijklmnopqrstuvwxyzABCDEFGHIJKLMNOPQRSTUVWXYZ\"\n",
    "tries, timeAmount = tryPassword(password, stringType)\n",
    "print(\"CyanCoding's BFPC cracked the password %s in %s tries and %s seconds!\" % (password, tries, timeAmount))"
   ]
  },
  {
   "cell_type": "code",
   "execution_count": 6,
   "metadata": {},
   "outputs": [
    {
     "name": "stdout",
     "output_type": "stream",
     "text": [
      "Password >ZZZZ\n",
      "CyanCoding's BFPC cracked the password ZZZZ in 15018570 tries and 3.4473419189453125 seconds!\n"
     ]
    }
   ],
   "source": [
    "password = input(\"Password >\")\n",
    "# Allowed characters\n",
    "stringType = \"1234567890abcdefghijklmnopqrstuvwxyzABCDEFGHIJKLMNOPQRSTUVWXYZ\"\n",
    "tries, timeAmount = tryPassword(password, stringType)\n",
    "print(\"CyanCoding's BFPC cracked the password %s in %s tries and %s seconds!\" % (password, tries, timeAmount))"
   ]
  },
  {
   "cell_type": "code",
   "execution_count": null,
   "metadata": {},
   "outputs": [],
   "source": []
  }
 ],
 "metadata": {
  "kernelspec": {
   "display_name": "Python 3",
   "language": "python",
   "name": "python3"
  },
  "language_info": {
   "codemirror_mode": {
    "name": "ipython",
    "version": 3
   },
   "file_extension": ".py",
   "mimetype": "text/x-python",
   "name": "python",
   "nbconvert_exporter": "python",
   "pygments_lexer": "ipython3",
   "version": "3.7.4"
  }
 },
 "nbformat": 4,
 "nbformat_minor": 2
}
