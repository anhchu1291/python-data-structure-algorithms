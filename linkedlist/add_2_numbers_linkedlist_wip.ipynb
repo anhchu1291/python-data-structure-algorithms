{
 "cells": [
  {
   "cell_type": "markdown",
   "metadata": {},
   "source": [
    "## Add 2 number\n",
    "You are given two non-empty linked lists representing two non-negative integers. The digits are stored in reverse order and each of their nodes contain a single digit. Add the two numbers and return it as a linked list.\n",
    "\n",
    "You may assume the two numbers do not contain any leading zero, except the number 0 itself.\n",
    "\n",
    "Example:\n",
    "\n",
    "> Input: (2 -> 4 -> 3) + (5 -> 6 -> 4)\n",
    "\n",
    "> Output: 7 -> 0 -> 8\n",
    "\n",
    "> Explanation: 342 + 465 = 807."
   ]
  },
  {
   "cell_type": "code",
   "execution_count": 12,
   "metadata": {},
   "outputs": [],
   "source": [
    "# Definition for singly-linked list.\n",
    "class ListNode:\n",
    "    def __init__(self, val=0, next=None):\n",
    "        self.val = val\n",
    "        self.next = nextclass\n",
    "    def __repr__(self):\n",
    "        return str(f'Node {self.value}')\n",
    "        \n",
    "class LinkedList:\n",
    "    def __init__(self):\n",
    "        self.head = None\n",
    "        \n",
    "    def insert_at_end(self, value):\n",
    "        node = self.head\n",
    "        if self.head is None:\n",
    "            self.head = ListNode(value)\n",
    "            return\n",
    "        while node:\n",
    "            if node.next is None:\n",
    "                node.next = ListNode(value)\n",
    "                break\n",
    "            node = node.next\n",
    "            \n",
    "    def __repr__(self):\n",
    "        if self.head is None:\n",
    "            print(\"Linked List is empty\")\n",
    "        node = self.head\n",
    "        s = ''\n",
    "        while node: \n",
    "            s += (f'Node {node.value} -> ')\n",
    "            node = node.next\n",
    "        return s"
   ]
  },
  {
   "cell_type": "code",
   "execution_count": null,
   "metadata": {},
   "outputs": [],
   "source": [
    "class Solution:\n",
    "    def addTwoNumbers(self, l1: ListNode, l2: ListNode) -> ListNode:\n",
    "        remainder = 0\n",
    "        l3 = ListNode()\n",
    "        while l1: \n",
    "            while l2:\n",
    "                if l1.val + l2.val >= 10:\n",
    "                    value = (l1.val + l2.val)%10 + remainder\n",
    "                    remainder += 1\n",
    "                else: \n",
    "                    value = l1.val + l2.val + remainder\n",
    "                    \n",
    "                l3.val = value\n",
    "                l3 = l3.next\n",
    "                l1 = l1.next\n",
    "                l2 = l2.next\n"
   ]
  }
 ],
 "metadata": {
  "kernelspec": {
   "display_name": "Python 3",
   "language": "python",
   "name": "python3"
  },
  "language_info": {
   "codemirror_mode": {
    "name": "ipython",
    "version": 3
   },
   "file_extension": ".py",
   "mimetype": "text/x-python",
   "name": "python",
   "nbconvert_exporter": "python",
   "pygments_lexer": "ipython3",
   "version": "3.8.2"
  }
 },
 "nbformat": 4,
 "nbformat_minor": 4
}
