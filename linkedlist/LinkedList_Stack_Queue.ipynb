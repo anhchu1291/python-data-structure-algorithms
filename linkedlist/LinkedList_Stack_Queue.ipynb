{
 "cells": [
  {
   "cell_type": "markdown",
   "metadata": {},
   "source": [
    "### Linked Lists\n",
    "You have been provided the code for doubly linked list: doubly_linked_list.py. Using this code, perform the following tasks:\n",
    "An interesting use-case of a linked list is to track edits in a \"Undo - Redo\" interface. Thus far we have really only talked about connecting singular data points in the nodes. The following task will deviate from that:\n",
    "I want you to create an interface of an application that will alter the contents of a list. As you alter the contents of the list, you should be able to retrieve the previous state of the list as you change it, much like being able to undo and redo changes in a document. Your application interface should support three basic functions, undo(), redo(), and do() where \"do()\" is what actually alters the contents of the list. You can interpret \"do()\" as what happens when you type in a word processor. I want you to \"do()\" the following actions:\n",
    "* Create a list with the initial values of: [5,3,2,1,4,8] \n",
    "* Sort the list.\n",
    "* Reverse the list\n",
    "* Add a 9 to the end of the list.\n",
    "* Undo back to before you reversed the list. \n",
    "* Add a 9 to the end of the list again\n",
    "* Undo back to the original state of the list.\n",
    "* After every operation, print the current state of the \"application\", remember that your application's only functionality is to change the state of the list.\n",
    "\n",
    "\n",
    "\n"
   ]
  },
  {
   "cell_type": "code",
   "execution_count": 1,
   "metadata": {},
   "outputs": [],
   "source": [
    "from doubly_linked_list import Node, DoublyLinkedList\n",
    "\n",
    "class App(DoublyLinkedList):\n",
    "    ''' Inherits from DoublyLinkedList class \n",
    "    Each node of the class will record the state of the application including: \n",
    "        * data (the list of values), prev (previous state), next (next state), current (current state)\n",
    "    All nodes are connected by the Doubly Linked List structure\n",
    "    '''\n",
    "    def __init__(self):\n",
    "        super().__init__()\n",
    "        self.current = self.tail # point to the current state of the class\n",
    "        \n",
    "    def do(self, action, *args): # after the do operation, self.current is at the tail of the DLL\n",
    "        self.tail = self.current\n",
    "        if action == 'create':\n",
    "            self.append(*args) # *args: the list of value to be created\n",
    "            self.current = self.tail\n",
    "            \n",
    "        elif action == 'sort':\n",
    "            if self.current is None:\n",
    "                return\n",
    "            data = self.current.data[:]\n",
    "            data.sort()\n",
    "            self.append(data)\n",
    "            self.current = self.tail\n",
    "            \n",
    "        elif action == 'reverse':\n",
    "            if self.current is None:\n",
    "                return\n",
    "            data = self.current.data[::-1]\n",
    "            self.append(data)\n",
    "            self.current = self.tail\n",
    "            \n",
    "        elif action == 'add':\n",
    "            if self.current is None:\n",
    "                return\n",
    "            data = self.current.data[:]\n",
    "            data.append(*args)\n",
    "            self.append(data)\n",
    "            self.current = self.tail\n",
    "            \n",
    "        self.tail = self.current\n",
    "        return self.current.data\n",
    "    \n",
    "    def undo(self): # for each undo operation, self.current moves to the previous node\n",
    "        if not self.current.prev:\n",
    "            return 'Cannot undo'\n",
    "        self.current = self.current.prev\n",
    "        return self.current.data\n",
    "    \n",
    "    def redo(self): \n",
    "        # for each redo operation, self.current moves to the next node. \n",
    "        # Redo can only occurs after undo\n",
    "        if not self.current.next:\n",
    "            return 'Cannot redo'\n",
    "        self.current = self.current.next\n",
    "        return self.current.data\n",
    "    \n",
    "        "
   ]
  },
  {
   "cell_type": "code",
   "execution_count": 2,
   "metadata": {},
   "outputs": [
    {
     "name": "stdout",
     "output_type": "stream",
     "text": [
      "Create a list with the initial values:\n",
      " [5, 3, 2, 1, 4, 8]\n",
      "Sort the list:\n",
      " [1, 2, 3, 4, 5, 8]\n",
      "Reverse the list:\n",
      " [8, 5, 4, 3, 2, 1]\n",
      "Add a 9 to the end of the list:\n",
      " [8, 5, 4, 3, 2, 1, 9]\n",
      "Undo back to before you reversed the list:\n",
      " [8, 5, 4, 3, 2, 1]\n",
      "[1, 2, 3, 4, 5, 8]\n",
      "Add a 9 to the end of the list again:\n",
      " [1, 2, 3, 4, 5, 8, 9]\n",
      "Undo back to the original state of the list:\n",
      " [1, 2, 3, 4, 5, 8]\n",
      "[5, 3, 2, 1, 4, 8]\n"
     ]
    }
   ],
   "source": [
    "app = App()\n",
    "print('Create a list with the initial values:\\n', app.do('create', [5,3,2,1,4,8]))\n",
    "print('Sort the list:\\n', app.do('sort'))\n",
    "print('Reverse the list:\\n', app.do('reverse'))\n",
    "print('Add a 9 to the end of the list:\\n', app.do('add',9))\n",
    "print('Undo back to before you reversed the list:\\n',app.undo())\n",
    "print(app.undo())\n",
    "print('Add a 9 to the end of the list again:\\n', app.do('add',9))\n",
    "print('Undo back to the original state of the list:\\n',app.undo())\n",
    "print(app.undo())"
   ]
  },
  {
   "cell_type": "code",
   "execution_count": 3,
   "metadata": {},
   "outputs": [
    {
     "name": "stdout",
     "output_type": "stream",
     "text": [
      "[1, 2, 3, 4, 5, 8]\n",
      "[1, 2, 3, 4, 5, 8, 9]\n",
      "Cannot redo\n"
     ]
    }
   ],
   "source": [
    "print(app.redo())\n",
    "print(app.redo())\n",
    "print(app.redo())"
   ]
  },
  {
   "cell_type": "code",
   "execution_count": 4,
   "metadata": {},
   "outputs": [
    {
     "name": "stdout",
     "output_type": "stream",
     "text": [
      "[5, 3, 2, 1, 4, 8]\n",
      "[1, 2, 3, 4, 5, 8]\n",
      "[1, 2, 3, 4, 5, 8, 9]\n"
     ]
    }
   ],
   "source": [
    "app.print_forward()"
   ]
  },
  {
   "cell_type": "markdown",
   "metadata": {},
   "source": [
    "### Stacks\n",
    "Using a linked structure (doubly, or singly linked list) create a stack structure. From this structure (the stack) and the included text file palindrome.txt, determine which of the words within the file are proper palindromes. Your solution must utilize the stack structure. However, You may use other tools/functions within the language of your choice to check your work."
   ]
  },
  {
   "cell_type": "code",
   "execution_count": 5,
   "metadata": {},
   "outputs": [
    {
     "name": "stdout",
     "output_type": "stream",
     "text": [
      "a\n",
      "b\n",
      "c\n",
      "pop c\n",
      "pop b\n",
      "pop a\n",
      "Stack after pop: 0 elements\n"
     ]
    }
   ],
   "source": [
    "from doubly_linked_list import DoublyLinkedList\n",
    "\n",
    "class Stack(DoublyLinkedList):\n",
    "    ''' Stack class inherits all properties and methods from DoublyLinkedList class '''\n",
    "    \n",
    "    def __init__(self):\n",
    "        super().__init__()\n",
    "        \n",
    "    def pop(self): # O(1)\n",
    "        if not self.tail:\n",
    "            return\n",
    "        temp = self.tail.data\n",
    "        self.tail = self.tail.prev\n",
    "        self.count -= 1\n",
    "        if self.count == 0:\n",
    "            self.head = self.tail\n",
    "        return temp\n",
    "    \n",
    "# Test   \n",
    "stack = Stack()\n",
    "stack.append('a')\n",
    "stack.append('b')\n",
    "stack.append('c')\n",
    "stack.print_forward()\n",
    "\n",
    "print('pop', stack.pop())\n",
    "print('pop', stack.pop())\n",
    "print('pop', stack.pop())\n",
    "print('Stack after pop:', stack.count, 'elements')\n",
    "for val in stack.iter():\n",
    "    print(val)\n"
   ]
  },
  {
   "cell_type": "code",
   "execution_count": 6,
   "metadata": {},
   "outputs": [
    {
     "name": "stdout",
     "output_type": "stream",
     "text": [
      "['Morning', 'Level', 'Madam', 'First', 'Noon', 'Racecar', 'Extra', 'Radar', 'Refer', 'Repaper', 'Fill', 'Sagas', 'Stats', 'Tenet', 'Status', 'Wow']\n"
     ]
    }
   ],
   "source": [
    "# Read in the file palindrome.txt and process the strings\n",
    "with open('palindrome.txt','r') as file:\n",
    "    s = file.readlines()[0].split(', ')\n",
    "print(s)\n"
   ]
  },
  {
   "cell_type": "code",
   "execution_count": 7,
   "metadata": {},
   "outputs": [
    {
     "data": {
      "text/plain": [
       "['Level',\n",
       " 'Madam',\n",
       " 'Noon',\n",
       " 'Racecar',\n",
       " 'Radar',\n",
       " 'Refer',\n",
       " 'Repaper',\n",
       " 'Sagas',\n",
       " 'Stats',\n",
       " 'Tenet',\n",
       " 'Wow']"
      ]
     },
     "execution_count": 7,
     "metadata": {},
     "output_type": "execute_result"
    }
   ],
   "source": [
    "def check_palindrome(s):\n",
    "    palindromes = []\n",
    "    for string in s: # O(N)\n",
    "        stack = Stack()\n",
    "        if len(string)%2 == 0: \n",
    "            i, j = len(string)//2 - 1, len(string)//2\n",
    "        else: # length is odd, skip the middle character\n",
    "            i, j = len(string)//2 - 1, len(string)//2 + 1\n",
    "        k=0\n",
    "        while k <= i : # add half of the string to stack\n",
    "            char = string[k].lower()\n",
    "            stack.append(char)\n",
    "            k += 1\n",
    "        while j < len(string):\n",
    "            e = stack.pop()\n",
    "            if e != string[j]:\n",
    "                break\n",
    "            j += 1\n",
    "        if stack.count == 0: palindromes.append(string)\n",
    "        \n",
    "    return palindromes\n",
    "        \n",
    "check_palindrome(s)\n"
   ]
  },
  {
   "cell_type": "markdown",
   "metadata": {},
   "source": [
    "### Queues\n",
    "Finally, this last section is not a coding challenge.\n",
    "A remote printing system serving a large pool of individuals can be very complicated to support. In theory, a simple queue that takes in print requests and dequeue's them once they have been processed would serve all the required operations. However, there are significant problems that arise as far as user requests and other things. What are some of the issues that you can see with a simple queue that only supports First In First Out operations typical of a queue? (Enqueue, dequeue, peek, etc.) For your submission, you can either submit a second video of 1-2 minutes in length, or small report of approximately 1 page that discusses the various shortcomings of a queue to support a remote printer system."
   ]
  },
  {
   "cell_type": "markdown",
   "metadata": {},
   "source": []
  }
 ],
 "metadata": {
  "kernelspec": {
   "display_name": "Python 3",
   "language": "python",
   "name": "python3"
  },
  "language_info": {
   "codemirror_mode": {
    "name": "ipython",
    "version": 3
   },
   "file_extension": ".py",
   "mimetype": "text/x-python",
   "name": "python",
   "nbconvert_exporter": "python",
   "pygments_lexer": "ipython3",
   "version": "3.9.0"
  }
 },
 "nbformat": 4,
 "nbformat_minor": 2
}
