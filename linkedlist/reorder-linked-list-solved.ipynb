{
 "cells": [
  {
   "cell_type": "markdown",
   "metadata": {},
   "source": [
    "## REORDER LINKED LIST\n",
    "\n",
    "Given a singly linked list L: L0→L1→…→Ln-1→Ln,\n",
    "\n",
    "reorder it to: L0→Ln→L1→Ln-1→L2→Ln-2→…\n",
    "\n",
    "You may not modify the values in the list's nodes, only nodes itself may be changed.\n",
    "\n",
    "Example 1:\n",
    "\n",
    "Given 1->2->3->4, reorder it to 1->4->2->3.\n",
    "\n",
    "Example 2:\n",
    "\n",
    "Given 1->2->3->4->5, reorder it to 1->5->2->4->3.\n",
    "\n",
    "### Solution steps:\n",
    "1. cut the list by half\n",
    "2. reverse the 2nd list\n",
    "3. merge 2 list together where 2nd list node go in between 2 nodes of the 1st list\n",
    "\n",
    "Time O(n), space O(1)"
   ]
  },
  {
   "cell_type": "code",
   "execution_count": 1,
   "metadata": {},
   "outputs": [],
   "source": [
    "class ListNode:\n",
    "    def __init__(self, val=0, next=None):\n",
    "        self.value = val\n",
    "        self.next = next\n",
    "    def __repr__(self):\n",
    "        return str(f'Node {self.value}')\n",
    "        \n",
    "class LinkedList:\n",
    "    def __init__(self):\n",
    "        self.head = None\n",
    "        \n",
    "    def insert_at_end(self, value):\n",
    "        node = self.head\n",
    "        if self.head is None:\n",
    "            self.head = ListNode(value)\n",
    "            return\n",
    "        while node:\n",
    "            if node.next is None:\n",
    "                node.next = ListNode(value)\n",
    "                break\n",
    "            node = node.next\n",
    "            \n",
    "    def __repr__(self):\n",
    "        if self.head is None:\n",
    "            print(\"Linked List is empty\")\n",
    "        node = self.head\n",
    "        s = ''\n",
    "        while node: \n",
    "            s += (f'Node {node.value} -> ')\n",
    "            node = node.next\n",
    "        return s\n",
    "    "
   ]
  },
  {
   "cell_type": "code",
   "execution_count": 2,
   "metadata": {},
   "outputs": [],
   "source": [
    "class Solution:\n",
    "    def reorderList(self, head: ListNode) -> None:\n",
    "        \"\"\"\n",
    "        Do not return anything, modify head in-place instead.\n",
    "        \"\"\"\n",
    "        \n",
    "        if head is None or head.next is None:\n",
    "            print('No action as linked list is empty')\n",
    "            return\n",
    "        \n",
    "        # cut the list by half, reverse 2nd list \n",
    "        head, second_head = self.cut_half(head)\n",
    "        \n",
    "        second_head = self.reverse(second_head)\n",
    "        \n",
    "        node = head\n",
    "        \n",
    "        while node:\n",
    "            temp = node.next\n",
    "            temp2 = second_head.next\n",
    "            node.next = second_head\n",
    "            if temp:\n",
    "                second_head.next = temp\n",
    "                node = temp\n",
    "                second_head = temp2\n",
    "                \n",
    "            else: \n",
    "                break\n",
    "            \n",
    "        \n",
    "    def cut_half(self, head):\n",
    "        ''' \n",
    "        cut the linked list by half \n",
    "        '''\n",
    "        second_head = None\n",
    "        if head is None or head.next is None:\n",
    "            return head, second_head\n",
    "        node = head\n",
    "        slow = head\n",
    "        fast = head\n",
    "        prev = None\n",
    "        while node:    \n",
    "            if fast is None or fast.next is None:\n",
    "                second_head = slow\n",
    "                prev.next = None\n",
    "                break\n",
    "            slow = slow.next\n",
    "            fast = fast.next.next\n",
    "            prev = node\n",
    "            node = node.next\n",
    "        return head, second_head\n",
    "    \n",
    "    \n",
    "    def reverse(self, head):\n",
    "        if head is None:\n",
    "            return\n",
    "        node = head\n",
    "        prev = None\n",
    "        next = None\n",
    "        while node:\n",
    "            next = node.next\n",
    "            node.next = prev\n",
    "            prev = node\n",
    "            node = next\n",
    "        head = prev\n",
    "        return head\n",
    "        \n",
    "        "
   ]
  },
  {
   "cell_type": "markdown",
   "metadata": {},
   "source": [
    "### Test the Solution"
   ]
  },
  {
   "cell_type": "code",
   "execution_count": 3,
   "metadata": {},
   "outputs": [
    {
     "name": "stdout",
     "output_type": "stream",
     "text": [
      "Node 0 -> Node 1 -> Node 2 -> Node 3 -> Node 4 -> \n"
     ]
    },
    {
     "data": {
      "text/plain": [
       "Node 0 -> Node 4 -> Node 1 -> Node 3 -> Node 2 -> "
      ]
     },
     "execution_count": 3,
     "metadata": {},
     "output_type": "execute_result"
    }
   ],
   "source": [
    "arr = [0,1,2,3,4]\n",
    "ll = LinkedList()\n",
    "for val in arr:\n",
    "    ll.insert_at_end(val)\n",
    "print(ll)\n",
    "sol = Solution()\n",
    "sol.reorderList(ll.head)\n",
    "ll"
   ]
  },
  {
   "cell_type": "code",
   "execution_count": 4,
   "metadata": {},
   "outputs": [
    {
     "name": "stdout",
     "output_type": "stream",
     "text": [
      "No action as linked list is empty\n"
     ]
    }
   ],
   "source": [
    "ll = LinkedList()\n",
    "sol = Solution()\n",
    "sol.reorderList(ll.head)"
   ]
  },
  {
   "cell_type": "code",
   "execution_count": 5,
   "metadata": {},
   "outputs": [
    {
     "name": "stdout",
     "output_type": "stream",
     "text": [
      "Node 0 -> Node 1 -> Node 2 -> Node 3 -> Node 4 -> Node 5 -> Node 6 -> Node 7 -> \n"
     ]
    },
    {
     "data": {
      "text/plain": [
       "Node 0 -> Node 7 -> Node 1 -> Node 6 -> Node 2 -> Node 5 -> Node 3 -> Node 4 -> "
      ]
     },
     "execution_count": 5,
     "metadata": {},
     "output_type": "execute_result"
    }
   ],
   "source": [
    "arr = [0,1,2,3,4,5,6,7]\n",
    "ll = LinkedList()\n",
    "for val in arr:\n",
    "    ll.insert_at_end(val)\n",
    "print(ll)\n",
    "sol = Solution()\n",
    "sol.reorderList(ll.head)\n",
    "ll"
   ]
  },
  {
   "cell_type": "code",
   "execution_count": 6,
   "metadata": {},
   "outputs": [
    {
     "name": "stdout",
     "output_type": "stream",
     "text": [
      "Node 0 -> Node 1 -> Node 2 -> \n"
     ]
    },
    {
     "data": {
      "text/plain": [
       "Node 0 -> Node 2 -> Node 1 -> "
      ]
     },
     "execution_count": 6,
     "metadata": {},
     "output_type": "execute_result"
    }
   ],
   "source": [
    "arr = [0,1,2]\n",
    "ll = LinkedList()\n",
    "for val in arr:\n",
    "    ll.insert_at_end(val)\n",
    "print(ll)\n",
    "sol = Solution()\n",
    "sol.reorderList(ll.head)\n",
    "ll"
   ]
  },
  {
   "cell_type": "markdown",
   "metadata": {},
   "source": [
    "### Shorter solution - combine all functions"
   ]
  },
  {
   "cell_type": "code",
   "execution_count": 21,
   "metadata": {},
   "outputs": [],
   "source": [
    "class Solution:\n",
    "    def reorderList(self, head: ListNode) -> None:\n",
    "        \n",
    "        if not head or not head.next: \n",
    "            return\n",
    "        # 1. cut the list by half\n",
    "        \n",
    "        fast = head\n",
    "        slow = head\n",
    "        prev = None\n",
    "        \n",
    "        while fast is not None and fast.next is not None:\n",
    "            prev = slow\n",
    "            slow = slow.next\n",
    "            fast = fast.next.next\n",
    "\n",
    "        head2 = slow\n",
    "        prev.next = None\n",
    "        \n",
    "        # 2. reverse the 2nd list\n",
    "        node = head2\n",
    "        prev = None\n",
    "        while node:\n",
    "            nextt = node.next\n",
    "            node.next = prev\n",
    "            prev = node\n",
    "            node = nextt\n",
    "        head2 = prev\n",
    "        \n",
    "        # 3. merge node of 2nd list between node of 1st list\n",
    "        node = head\n",
    "        while node:\n",
    "            temp = node.next\n",
    "            temp2 = head2.next\n",
    "            node.next = head2\n",
    "            if temp:\n",
    "                head2.next = temp\n",
    "                node = temp\n",
    "                head2 = temp2\n",
    "            else:\n",
    "                break\n",
    "            "
   ]
  },
  {
   "cell_type": "code",
   "execution_count": 22,
   "metadata": {},
   "outputs": [
    {
     "data": {
      "text/plain": [
       "Node 0 -> Node 7 -> Node 1 -> Node 6 -> Node 2 -> Node 5 -> Node 3 -> Node 4 -> "
      ]
     },
     "execution_count": 22,
     "metadata": {},
     "output_type": "execute_result"
    }
   ],
   "source": [
    "arr = [0,1,2,3,4,5,6,7]\n",
    "ll = LinkedList()\n",
    "for val in arr:\n",
    "    ll.insert_at_end(val)\n",
    "\n",
    "sol = Solution()\n",
    "sol.reorderList(ll.head)\n",
    "ll"
   ]
  },
  {
   "cell_type": "code",
   "execution_count": 23,
   "metadata": {},
   "outputs": [],
   "source": [
    "arr = []\n",
    "ll = LinkedList()\n",
    "for val in arr:\n",
    "    ll.insert_at_end(val)\n",
    "\n",
    "sol = Solution()\n",
    "sol.reorderList(ll.head)"
   ]
  },
  {
   "cell_type": "code",
   "execution_count": 24,
   "metadata": {},
   "outputs": [
    {
     "data": {
      "text/plain": [
       "Node 0 -> Node 2 -> Node 1 -> "
      ]
     },
     "execution_count": 24,
     "metadata": {},
     "output_type": "execute_result"
    }
   ],
   "source": [
    "arr = [0,1,2]\n",
    "ll = LinkedList()\n",
    "for val in arr:\n",
    "    ll.insert_at_end(val)\n",
    "\n",
    "sol = Solution()\n",
    "sol.reorderList(ll.head)\n",
    "ll"
   ]
  },
  {
   "cell_type": "code",
   "execution_count": 25,
   "metadata": {},
   "outputs": [
    {
     "data": {
      "text/plain": [
       "Node 0 -> "
      ]
     },
     "execution_count": 25,
     "metadata": {},
     "output_type": "execute_result"
    }
   ],
   "source": [
    "arr = [0]\n",
    "ll = LinkedList()\n",
    "for val in arr:\n",
    "    ll.insert_at_end(val)\n",
    "\n",
    "sol = Solution()\n",
    "sol.reorderList(ll.head)\n",
    "ll"
   ]
  },
  {
   "cell_type": "code",
   "execution_count": null,
   "metadata": {},
   "outputs": [],
   "source": []
  }
 ],
 "metadata": {
  "kernelspec": {
   "display_name": "Python 3",
   "language": "python",
   "name": "python3"
  },
  "language_info": {
   "codemirror_mode": {
    "name": "ipython",
    "version": 3
   },
   "file_extension": ".py",
   "mimetype": "text/x-python",
   "name": "python",
   "nbconvert_exporter": "python",
   "pygments_lexer": "ipython3",
   "version": "3.8.2"
  }
 },
 "nbformat": 4,
 "nbformat_minor": 4
}
