{
 "cells": [
  {
   "cell_type": "markdown",
   "metadata": {},
   "source": [
    "## Singly Linked List\n",
    "1. create a linked list\n",
    "2. traverse a linked list\n",
    "3. insert items\n",
    "4. count items\n",
    "5. search elements\n",
    "6. delete elements\n",
    "7. reverse a linked list"
   ]
  },
  {
   "cell_type": "markdown",
   "metadata": {},
   "source": [
    "### Reverse a linked list\n",
    "1. prev, node, next \n",
    "2. prev = None, node = head\n",
    "3. while node:\n",
    "    * next = node.next\n",
    "    * node.next = prev\n",
    "    * prev = node\n",
    "    * node = next\n",
    "\n",
    "    "
   ]
  },
  {
   "cell_type": "code",
   "execution_count": 51,
   "metadata": {},
   "outputs": [],
   "source": [
    "class Node:\n",
    "    def __init__(self, value):\n",
    "        self.value = value\n",
    "        self.next = None\n",
    "    def __repr__(self):\n",
    "        return (f'Node {str(self.value)}')"
   ]
  },
  {
   "cell_type": "code",
   "execution_count": 72,
   "metadata": {},
   "outputs": [],
   "source": [
    "class LinkedList:\n",
    "    def __init__(self):\n",
    "        self.head = None\n",
    "    \n",
    "    def insert_at_start(self,value):\n",
    "        if self.head is None:\n",
    "            self.head = Node(value)\n",
    "            return\n",
    "        new_node = Node(value)\n",
    "        new_node.next = self.head\n",
    "        self.head = new_node\n",
    "        \n",
    "    def insert_at_end(self, value):\n",
    "        if self.head is None:\n",
    "            self.head = Node(value)\n",
    "            return\n",
    "        node = self.head\n",
    "        while node.next: \n",
    "            node = node.next\n",
    "        node.next = Node(value)\n",
    "    \n",
    "    def insert_before_item(self,value,item):\n",
    "        new_node = Node(value)\n",
    "        node = self.head\n",
    "        prev_node = None\n",
    "        \n",
    "        if self.head is None:\n",
    "            print(\"Linked List is empty\")\n",
    "            return\n",
    "        elif self.head.value == item:\n",
    "            new_node.next = self.head\n",
    "            self.head = new_node\n",
    "            return\n",
    "        else:\n",
    "            while node:\n",
    "                #print(node.value)\n",
    "                if node.value == item:\n",
    "                    #print (node, item)\n",
    "                    new_node.next = node\n",
    "                    prev_node.next = new_node\n",
    "                    break\n",
    "                    return\n",
    "                prev_node = node\n",
    "                node = node.next\n",
    "            if node is None:\n",
    "                print(\"item not in node\")\n",
    "                return\n",
    "\n",
    "    def insert_at_position(self,value,idx):\n",
    "        if idx < 0 :\n",
    "            print(\"index not valid\")\n",
    "            return\n",
    "        elif self.head is None and idx == 0: \n",
    "            self.head = Node(value)\n",
    "            return\n",
    "        elif self.head is None and idx != 0:\n",
    "            return\n",
    "        else: \n",
    "            node = self.head\n",
    "            i = 0\n",
    "            new_node = Node(value)\n",
    "            while node:\n",
    "                prev_node = node\n",
    "                node = node.next\n",
    "                i+=1\n",
    "                if i == idx: \n",
    "                    prev_node.next = new_node # attach new node to prev_node.next\n",
    "                    new_node.next = node # attach node to new node next\n",
    "                    break # break out of loop\n",
    "                \n",
    "            # node is None, end loop\n",
    "            if i == idx:\n",
    "                node = new_node # attach new node to node\n",
    "            else: \n",
    "                print (\"index not valid\")\n",
    "    \n",
    "    def count(self):\n",
    "        count = 0\n",
    "        if self.head is None:\n",
    "            return count\n",
    "        node = self.head\n",
    "        while node:\n",
    "            count+=1\n",
    "            node = node.next\n",
    "        return count\n",
    "    \n",
    "    def search(self, value):\n",
    "        if self.head is None:\n",
    "            return('Linked List is empty')\n",
    "        node = self.head\n",
    "        while node:\n",
    "            if node.value == value:\n",
    "                return \"Item Found\"\n",
    "            node = node.next\n",
    "        return 'Item Not Found'\n",
    "    \n",
    "    def delete_by_element(self,element):\n",
    "        if self.head is None:\n",
    "            print('Linked List is empty')\n",
    "            return\n",
    "        if self.head.value == element:\n",
    "            self.head = self.head.next\n",
    "            return \n",
    "        else:\n",
    "            node = self.head\n",
    "            prev_node = None\n",
    "            while node:\n",
    "                if node.value == element:\n",
    "                    prev_node.next = node.next\n",
    "                    return\n",
    "                prev_node = node\n",
    "                node = node.next\n",
    "            print ('Item Not Found to Delete')\n",
    "            \n",
    "    def reverse(self):\n",
    "        if self.head is None:\n",
    "            print (\"Linked List is empty\")\n",
    "            return\n",
    "        node = self.head\n",
    "        prev = None\n",
    "        while node:\n",
    "            next = node.next\n",
    "            node.next = prev\n",
    "            prev = node\n",
    "            node = next\n",
    "        self.head = prev\n",
    "            \n",
    "    def __repr__(self):\n",
    "        if self.head is None:\n",
    "            print(\"Linked List is empty\")\n",
    "        node = self.head\n",
    "        s = ''\n",
    "        while node: \n",
    "            s += (f'Node {node.value} -> ')\n",
    "            node = node.next\n",
    "        return s"
   ]
  },
  {
   "cell_type": "code",
   "execution_count": 73,
   "metadata": {},
   "outputs": [],
   "source": [
    "ll = LinkedList()\n",
    "ll.insert_at_end(2)\n",
    "ll.insert_at_end(3)\n",
    "ll.insert_at_start(0)\n",
    "ll.reverse()"
   ]
  },
  {
   "cell_type": "code",
   "execution_count": 54,
   "metadata": {},
   "outputs": [
    {
     "data": {
      "text/plain": [
       "Node 3 -> Node 2 -> Node 0 -> "
      ]
     },
     "execution_count": 54,
     "metadata": {},
     "output_type": "execute_result"
    }
   ],
   "source": [
    "ll"
   ]
  },
  {
   "cell_type": "code",
   "execution_count": 55,
   "metadata": {},
   "outputs": [
    {
     "data": {
      "text/plain": [
       "Node 3 -> Node 1 -> Node 2 -> Node 0 -> "
      ]
     },
     "execution_count": 55,
     "metadata": {},
     "output_type": "execute_result"
    }
   ],
   "source": [
    "ll.insert_before_item(1,2) # insert 1 before item 2\n",
    "ll"
   ]
  },
  {
   "cell_type": "code",
   "execution_count": 56,
   "metadata": {},
   "outputs": [
    {
     "name": "stdout",
     "output_type": "stream",
     "text": [
      "item not in node\n"
     ]
    },
    {
     "data": {
      "text/plain": [
       "Node 3 -> Node 1 -> Node 2 -> Node 0 -> "
      ]
     },
     "execution_count": 56,
     "metadata": {},
     "output_type": "execute_result"
    }
   ],
   "source": [
    "ll.insert_before_item(2.5,4) # insert 2.5 before item 4, but ll doesn't have node(4)\n",
    "ll"
   ]
  },
  {
   "cell_type": "code",
   "execution_count": 57,
   "metadata": {},
   "outputs": [
    {
     "data": {
      "text/plain": [
       "Node 3 -> Node 1 -> Node 2 -> Node 4 -> Node 0 -> "
      ]
     },
     "execution_count": 57,
     "metadata": {},
     "output_type": "execute_result"
    }
   ],
   "source": [
    "ll.insert_at_position(4,3) #insert 5 at position 3\n",
    "ll"
   ]
  },
  {
   "cell_type": "code",
   "execution_count": 58,
   "metadata": {},
   "outputs": [
    {
     "data": {
      "text/plain": [
       "Node 3 -> Node 1 -> Node 2 -> Node 4 -> Node 0 -> Node 7 -> "
      ]
     },
     "execution_count": 58,
     "metadata": {},
     "output_type": "execute_result"
    }
   ],
   "source": [
    "ll.insert_at_position(7,5) # insert 7 at position 5\n",
    "ll"
   ]
  },
  {
   "cell_type": "code",
   "execution_count": 59,
   "metadata": {
    "scrolled": true
   },
   "outputs": [
    {
     "name": "stdout",
     "output_type": "stream",
     "text": [
      "index not valid\n"
     ]
    },
    {
     "data": {
      "text/plain": [
       "Node 3 -> Node 1 -> Node 2 -> Node 4 -> Node 0 -> Node 7 -> "
      ]
     },
     "execution_count": 59,
     "metadata": {},
     "output_type": "execute_result"
    }
   ],
   "source": [
    "# insert value at invalid index\n",
    "ll.insert_at_position(10,8) # insert 10 at position 8\n",
    "ll"
   ]
  },
  {
   "cell_type": "code",
   "execution_count": 60,
   "metadata": {},
   "outputs": [
    {
     "data": {
      "text/plain": [
       "Node 3 -> Node 1 -> Node 2 -> Node 4 -> Node -1 -> Node 0 -> Node 7 -> "
      ]
     },
     "execution_count": 60,
     "metadata": {},
     "output_type": "execute_result"
    }
   ],
   "source": [
    "ll.insert_before_item(-1, 0) # insert -1 before 0\n",
    "ll"
   ]
  },
  {
   "cell_type": "code",
   "execution_count": 61,
   "metadata": {},
   "outputs": [
    {
     "data": {
      "text/plain": [
       "Node 3 -> Node 1 -> Node 2 -> Node 4 -> Node -1 -> Node 0 -> Node 5 -> Node 7 -> "
      ]
     },
     "execution_count": 61,
     "metadata": {},
     "output_type": "execute_result"
    }
   ],
   "source": [
    "ll.insert_before_item(5,7) # insert 4 before 5\n",
    "ll"
   ]
  },
  {
   "cell_type": "code",
   "execution_count": 62,
   "metadata": {},
   "outputs": [
    {
     "data": {
      "text/plain": [
       "8"
      ]
     },
     "execution_count": 62,
     "metadata": {},
     "output_type": "execute_result"
    }
   ],
   "source": [
    "ll.count()"
   ]
  },
  {
   "cell_type": "code",
   "execution_count": 63,
   "metadata": {},
   "outputs": [
    {
     "data": {
      "text/plain": [
       "Node 3 -> Node 1 -> Node 2 -> Node -1 -> Node 0 -> Node 5 -> Node 7 -> "
      ]
     },
     "execution_count": 63,
     "metadata": {},
     "output_type": "execute_result"
    }
   ],
   "source": [
    "ll.delete_by_element(4)\n",
    "ll"
   ]
  },
  {
   "cell_type": "code",
   "execution_count": 64,
   "metadata": {},
   "outputs": [
    {
     "data": {
      "text/plain": [
       "Node 3 -> Node 1 -> Node 2 -> Node -1 -> Node 0 -> Node 5 -> Node 7 -> "
      ]
     },
     "execution_count": 64,
     "metadata": {},
     "output_type": "execute_result"
    }
   ],
   "source": [
    "ll"
   ]
  },
  {
   "cell_type": "code",
   "execution_count": 65,
   "metadata": {},
   "outputs": [
    {
     "data": {
      "text/plain": [
       "Node 7 -> Node 5 -> Node 0 -> Node -1 -> Node 2 -> Node 1 -> Node 3 -> "
      ]
     },
     "execution_count": 65,
     "metadata": {},
     "output_type": "execute_result"
    }
   ],
   "source": [
    "ll.reverse()\n",
    "ll"
   ]
  },
  {
   "cell_type": "code",
   "execution_count": 66,
   "metadata": {},
   "outputs": [
    {
     "data": {
      "text/plain": [
       "Node 5 -> Node 0 -> Node -1 -> Node 2 -> Node 1 -> Node 3 -> "
      ]
     },
     "execution_count": 66,
     "metadata": {},
     "output_type": "execute_result"
    }
   ],
   "source": [
    "ll.delete_by_element(7) #delete head node\n",
    "ll"
   ]
  },
  {
   "cell_type": "code",
   "execution_count": 37,
   "metadata": {},
   "outputs": [],
   "source": [
    "# stand-alone reverse function on linkedlist\n",
    "def reverse(head):\n",
    "    #head = linkedlist.head\n",
    "    if head is None:\n",
    "        print (\"Linked List is empty\")\n",
    "        return\n",
    "    node = head\n",
    "    prev = None\n",
    "    while node:\n",
    "        #print(node.value)\n",
    "        next = node.next\n",
    "        node.next = prev\n",
    "        prev = node\n",
    "        node = next\n",
    "    head = prev\n",
    "    return head"
   ]
  },
  {
   "cell_type": "code",
   "execution_count": 40,
   "metadata": {},
   "outputs": [],
   "source": [
    "ll2 = LinkedList()\n",
    "ll2.insert_at_end(3)\n",
    "ll2.insert_at_end(4)\n",
    "ll2.insert_at_end(5)\n",
    "#swap_node(ll2,1,2)"
   ]
  },
  {
   "cell_type": "code",
   "execution_count": 41,
   "metadata": {},
   "outputs": [
    {
     "data": {
      "text/plain": [
       "Node 5 -> Node 4 -> Node 3 -> "
      ]
     },
     "execution_count": 41,
     "metadata": {},
     "output_type": "execute_result"
    }
   ],
   "source": [
    "ll2.head = reverse(ll2.head)\n",
    "ll2"
   ]
  },
  {
   "cell_type": "markdown",
   "metadata": {},
   "source": [
    "### Swap Node\n",
    "\n",
    "Given a linked list, swap the two nodes present at position `i` and `j`, assuming `0 <= i <= j`. The positions are based on 0-based indexing.\n",
    "\n",
    "**Note:** You have to swap the nodes and not just the values. \n",
    "\n",
    "**Example:**\n",
    "* `linked_list = 3 4 5 2 6 1 9`\n",
    "* `positions = 2 5`\n",
    "* `output = 3 4 1 2 6 5 9`\n",
    "\n",
    "**Explanation:** \n",
    "* The node at position 3 has the value `2`\n",
    "* The node at position 4 has the value `6`\n",
    "* Swapping these nodes will result in a final order of nodes of `3 4 5 6 2 1 9`"
   ]
  },
  {
   "cell_type": "markdown",
   "metadata": {},
   "source": [
    "#### Steps:\n",
    "Given linked list = [3, 4, 5, 2, 6, 1, 9] <br>\n",
    "position_one = 2<br>\n",
    "position_two = 5<br>\n",
    "**Note the original order of indexes - 0, 1, 2, 3, 4, 5, 6**<br>\n",
    "\n",
    "1. **Step 1** - Identify the two nodes to be swapped. Also, identify the previous of both the two nodes. \n",
    "2. **Step 2** - Swap the references making use of a temporary reference\n",
    "3. **Check the order of the updated indexes as - 0, 1, 5, 3, 4, 2, 6**, which implies that index 2 and index 5 have been swapped.\n",
    "\n",
    "* Reference: https://www.geeksforgeeks.org/swap-nodes-in-a-linked-list-without-swapping-data/"
   ]
  },
  {
   "cell_type": "code",
   "execution_count": 90,
   "metadata": {},
   "outputs": [],
   "source": [
    "# stand-alone swap node\n",
    "def swap_node(linkedlist, left_idx, right_idx):\n",
    "    head = linkedlist.head\n",
    "    if head is None:\n",
    "        print (\"Linked List is empty\")\n",
    "        return\n",
    "    # left == right, return\n",
    "    if left_idx == right_idx:\n",
    "        return\n",
    "    # look for the node at left_idx and right_idx\n",
    "    i = 0\n",
    "    node = head\n",
    "    left = None\n",
    "    prev_left = None\n",
    "    prev_right = None\n",
    "    \n",
    "    while node:\n",
    "        #print(node)\n",
    "        if i == left_idx:\n",
    "            left = node\n",
    "            left.next = node.next\n",
    "            node = node.next\n",
    "            break\n",
    "        else:\n",
    "            prev_left = node\n",
    "            #prev_right = node\n",
    "            node = node.next\n",
    "        i+=1\n",
    "         \n",
    "    node = head\n",
    "    i=0\n",
    "    right = None \n",
    "    prev_right = None\n",
    "    \n",
    "    while node:\n",
    "        if i == right_idx:\n",
    "            right = node\n",
    "            right.next = node.next\n",
    "            node = node.next\n",
    "            break\n",
    "        else:\n",
    "            prev_right = node\n",
    "            node = node.next\n",
    "        i+=1\n",
    "        \n",
    "    # if either idx not in the linked list, return   \n",
    "    if left is None or right is None:\n",
    "        print ('indexes are not valid')\n",
    "        return\n",
    "    else:\n",
    "        # found the left idx and right index, swap \n",
    "        print(f'prev left: {prev_left}, left: {left}, left next: {left.next}')\n",
    "        print(f'prev right: {prev_right}, right: {right}, right next: {right.next}')\n",
    "        \n",
    "        if left_idx == 0: # left is the head\n",
    "            linkedlist.head = right\n",
    "            temp = left.next\n",
    "            left.next = right.next\n",
    "            right.next = temp\n",
    "            prev_right.next = left     \n",
    "        \n",
    "        elif right_idx == 0: # right is the head\n",
    "            linkedlist.head = left\n",
    "            temp = left.next\n",
    "            left.next = right.next\n",
    "            right.next = temp\n",
    "            prev_left.next = right\n",
    "        \n",
    "        else:\n",
    "            prev_left.next = right\n",
    "            prev_right.next = left\n",
    "            temp = left.next\n",
    "            left.next = right.next\n",
    "            right.next = temp"
   ]
  },
  {
   "cell_type": "code",
   "execution_count": 91,
   "metadata": {},
   "outputs": [
    {
     "data": {
      "text/plain": [
       "Node 3 -> Node 4 -> Node 5 -> Node 2 -> Node 6 -> Node 1 -> Node 9 -> "
      ]
     },
     "execution_count": 91,
     "metadata": {},
     "output_type": "execute_result"
    }
   ],
   "source": [
    "ll = LinkedList()\n",
    "arr = [3,4,5,2,6,1,9]\n",
    "for val in arr:\n",
    "    ll.insert_at_end(val)\n",
    "ll"
   ]
  },
  {
   "cell_type": "code",
   "execution_count": 92,
   "metadata": {},
   "outputs": [
    {
     "name": "stdout",
     "output_type": "stream",
     "text": [
      "prev left: None, left: Node 3, left next: Node 4\n",
      "prev right: Node 4, right: Node 5, right next: Node 2\n"
     ]
    },
    {
     "data": {
      "text/plain": [
       "Node 5 -> Node 4 -> Node 3 -> Node 2 -> Node 6 -> Node 1 -> Node 9 -> "
      ]
     },
     "execution_count": 92,
     "metadata": {},
     "output_type": "execute_result"
    }
   ],
   "source": [
    "swap_node(ll,0,2)\n",
    "ll"
   ]
  },
  {
   "cell_type": "code",
   "execution_count": 93,
   "metadata": {},
   "outputs": [
    {
     "name": "stdout",
     "output_type": "stream",
     "text": [
      "prev left: Node 3, left: Node 2, left next: Node 6\n",
      "prev right: None, right: Node 5, right next: Node 4\n"
     ]
    },
    {
     "data": {
      "text/plain": [
       "Node 2 -> Node 4 -> Node 3 -> Node 5 -> Node 6 -> Node 1 -> Node 9 -> "
      ]
     },
     "execution_count": 93,
     "metadata": {},
     "output_type": "execute_result"
    }
   ],
   "source": [
    "swap_node(ll,3,0)\n",
    "ll"
   ]
  },
  {
   "cell_type": "code",
   "execution_count": 94,
   "metadata": {},
   "outputs": [
    {
     "name": "stdout",
     "output_type": "stream",
     "text": [
      "prev left: Node 4, left: Node 3, left next: Node 5\n",
      "prev right: Node 6, right: Node 1, right next: Node 9\n"
     ]
    },
    {
     "data": {
      "text/plain": [
       "Node 2 -> Node 4 -> Node 1 -> Node 5 -> Node 6 -> Node 3 -> Node 9 -> "
      ]
     },
     "execution_count": 94,
     "metadata": {},
     "output_type": "execute_result"
    }
   ],
   "source": [
    "swap_node(ll,2,5)\n",
    "ll"
   ]
  },
  {
   "cell_type": "code",
   "execution_count": 95,
   "metadata": {},
   "outputs": [
    {
     "name": "stdout",
     "output_type": "stream",
     "text": [
      "prev left: Node 4, left: Node 1, left next: Node 5\n",
      "prev right: Node 3, right: Node 9, right next: None\n"
     ]
    },
    {
     "data": {
      "text/plain": [
       "Node 2 -> Node 4 -> Node 9 -> Node 5 -> Node 6 -> Node 3 -> Node 1 -> "
      ]
     },
     "execution_count": 95,
     "metadata": {},
     "output_type": "execute_result"
    }
   ],
   "source": [
    "# test edge case: end of list\n",
    "swap_node(ll,2,6)\n",
    "ll"
   ]
  },
  {
   "cell_type": "code",
   "execution_count": 96,
   "metadata": {},
   "outputs": [
    {
     "name": "stdout",
     "output_type": "stream",
     "text": [
      "indexes are not valid\n"
     ]
    },
    {
     "data": {
      "text/plain": [
       "Node 2 -> Node 4 -> Node 9 -> Node 5 -> Node 6 -> Node 3 -> Node 1 -> "
      ]
     },
     "execution_count": 96,
     "metadata": {},
     "output_type": "execute_result"
    }
   ],
   "source": [
    "# test edge case: invalid index\n",
    "swap_node(ll,2,10)\n",
    "ll"
   ]
  },
  {
   "cell_type": "code",
   "execution_count": null,
   "metadata": {},
   "outputs": [],
   "source": []
  }
 ],
 "metadata": {
  "kernelspec": {
   "display_name": "Python 3",
   "language": "python",
   "name": "python3"
  },
  "language_info": {
   "codemirror_mode": {
    "name": "ipython",
    "version": 3
   },
   "file_extension": ".py",
   "mimetype": "text/x-python",
   "name": "python",
   "nbconvert_exporter": "python",
   "pygments_lexer": "ipython3",
   "version": "3.8.2"
  }
 },
 "nbformat": 4,
 "nbformat_minor": 4
}
