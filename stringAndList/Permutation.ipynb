{
 "cells": [
  {
   "cell_type": "code",
   "execution_count": 64,
   "metadata": {},
   "outputs": [],
   "source": [
    "# print all permutations of string with all distinct characters\n",
    "def permute(string):\n",
    "    #result = []\n",
    "    return _permute(string,'', [])\n",
    "\n",
    "def _permute(string, prefix, output):\n",
    "    #output = []\n",
    "    if len(string) == 0:\n",
    "        output.append(prefix)\n",
    "    \n",
    "    for i in range(len(string)):\n",
    "        rem = string[:i] + string[i+1:]\n",
    "        _permute(rem, prefix + string[i], output)\n",
    "    return output"
   ]
  },
  {
   "cell_type": "code",
   "execution_count": 65,
   "metadata": {},
   "outputs": [
    {
     "data": {
      "text/plain": [
       "['abc', 'acb', 'bac', 'bca', 'cab', 'cba']"
      ]
     },
     "execution_count": 65,
     "metadata": {},
     "output_type": "execute_result"
    }
   ],
   "source": [
    "permute('abc')"
   ]
  },
  {
   "cell_type": "code",
   "execution_count": 38,
   "metadata": {},
   "outputs": [],
   "source": [
    "# return a list of permuted list\n",
    "def listPermute(lst):\n",
    "    if len(lst) == 0:\n",
    "        return [[]]\n",
    "    \n",
    "    sublist = listPermute(lst[:-1])\n",
    "    last = lst[-1]\n",
    "    newlist = []    \n",
    "    \n",
    "    for l in sublist:\n",
    "        newlist.append(l+[last])\n",
    "        \n",
    "    return sublist + newlist"
   ]
  },
  {
   "cell_type": "code",
   "execution_count": 39,
   "metadata": {},
   "outputs": [
    {
     "data": {
      "text/plain": [
       "[[], [1], [2], [1, 2], [3], [1, 3], [2, 3], [1, 2, 3]]"
      ]
     },
     "execution_count": 39,
     "metadata": {},
     "output_type": "execute_result"
    }
   ],
   "source": [
    "listPermute([1,2,3])"
   ]
  },
  {
   "cell_type": "code",
   "execution_count": null,
   "metadata": {},
   "outputs": [],
   "source": []
  }
 ],
 "metadata": {
  "kernelspec": {
   "display_name": "Python 3",
   "language": "python",
   "name": "python3"
  },
  "language_info": {
   "codemirror_mode": {
    "name": "ipython",
    "version": 3
   },
   "file_extension": ".py",
   "mimetype": "text/x-python",
   "name": "python",
   "nbconvert_exporter": "python",
   "pygments_lexer": "ipython3",
   "version": "3.8.2"
  }
 },
 "nbformat": 4,
 "nbformat_minor": 4
}
