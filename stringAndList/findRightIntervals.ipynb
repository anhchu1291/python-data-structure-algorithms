{
 "cells": [
  {
   "cell_type": "code",
   "execution_count": 1,
   "metadata": {},
   "outputs": [],
   "source": [
    "class Solution:\n",
    "    def findRightInterval(self, intervals):\n",
    "        new = sorted((x for x in enumerate(intervals)), key = lambda s: s[1][0])\n",
    "        result = [-1 for _ in range(len(intervals))]\n",
    "        X = [x for _, (x, _) in new]\n",
    "        print(X)\n",
    "        for i, (x, y) in new:\n",
    "            start = 0\n",
    "            end = len(new)-1\n",
    "            \n",
    "            while start <= end:\n",
    "                mid = (start + end)//2\n",
    "                if y <= X[mid]:\n",
    "                    result[i] = new[mid][0]\n",
    "                    end = mid - 1\n",
    "                elif y > X[mid]:\n",
    "                    start = mid + 1\n",
    "        return result         \n",
    "        "
   ]
  },
  {
   "cell_type": "code",
   "execution_count": 2,
   "metadata": {},
   "outputs": [],
   "source": [
    "def testfunc(testcase):\n",
    "    intervals = testcase[0]\n",
    "    answer = testcase[1]\n",
    "    sol = Solution()\n",
    "    output = sol.findRightInterval(intervals)\n",
    "    print(output)\n",
    "    if output == answer:\n",
    "        return 'Pass'\n",
    "    else:\n",
    "        return 'Fail'"
   ]
  },
  {
   "cell_type": "code",
   "execution_count": 3,
   "metadata": {},
   "outputs": [
    {
     "name": "stdout",
     "output_type": "stream",
     "text": [
      "[0, 1, 1, 2, 3, 5]\n"
     ]
    },
    {
     "data": {
      "text/plain": [
       "[3, 0, 1, -1, 0, 1]"
      ]
     },
     "execution_count": 3,
     "metadata": {},
     "output_type": "execute_result"
    }
   ],
   "source": [
    "intervals =  [ [3,4], [2,3], [1,2], [5,7], [1,3], [0,2] ]\n",
    "sol = Solution()\n",
    "output = sol.findRightInterval(intervals)\n",
    "output"
   ]
  },
  {
   "cell_type": "code",
   "execution_count": 4,
   "metadata": {},
   "outputs": [
    {
     "name": "stdout",
     "output_type": "stream",
     "text": [
      "[1, 2, 3]\n",
      "[-1, 2, -1]\n"
     ]
    },
    {
     "data": {
      "text/plain": [
       "'Pass'"
      ]
     },
     "execution_count": 4,
     "metadata": {},
     "output_type": "execute_result"
    }
   ],
   "source": [
    "intervals = [ [1,4], [2,3], [3,4] ]\n",
    "testfunc([intervals, [-1, 2, -1]])"
   ]
  },
  {
   "cell_type": "code",
   "execution_count": 5,
   "metadata": {},
   "outputs": [
    {
     "name": "stdout",
     "output_type": "stream",
     "text": [
      "[1, 2, 3]\n",
      "[-1, 0, 1]\n"
     ]
    },
    {
     "data": {
      "text/plain": [
       "'Pass'"
      ]
     },
     "execution_count": 5,
     "metadata": {},
     "output_type": "execute_result"
    }
   ],
   "source": [
    "intervals =  [ [3,4], [2,3], [1,2] ]\n",
    "testfunc([intervals, [-1, 0, 1]])"
   ]
  },
  {
   "cell_type": "code",
   "execution_count": 6,
   "metadata": {},
   "outputs": [
    {
     "name": "stdout",
     "output_type": "stream",
     "text": [
      "[1]\n",
      "[-1]\n"
     ]
    },
    {
     "data": {
      "text/plain": [
       "'Pass'"
      ]
     },
     "execution_count": 6,
     "metadata": {},
     "output_type": "execute_result"
    }
   ],
   "source": [
    "intervals = [ [1,2] ]\n",
    "testfunc([intervals, [-1]])"
   ]
  },
  {
   "cell_type": "code",
   "execution_count": null,
   "metadata": {},
   "outputs": [],
   "source": []
  }
 ],
 "metadata": {
  "kernelspec": {
   "display_name": "Python 3",
   "language": "python",
   "name": "python3"
  },
  "language_info": {
   "codemirror_mode": {
    "name": "ipython",
    "version": 3
   },
   "file_extension": ".py",
   "mimetype": "text/x-python",
   "name": "python",
   "nbconvert_exporter": "python",
   "pygments_lexer": "ipython3",
   "version": "3.8.2"
  }
 },
 "nbformat": 4,
 "nbformat_minor": 4
}
