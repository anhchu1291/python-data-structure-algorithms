{
 "cells": [
  {
   "cell_type": "markdown",
   "metadata": {
    "graffitiCellId": "id_twe5ety"
   },
   "source": [
    "## Keypad Combinations\n",
    "\n",
    "A keypad on a cellphone has alphabets for all numbers between 2 and 9, as shown in the figure below:\n",
    "\n",
    "<img style=\"float: center;height:200px;\" src=\"Keypad.png\"><br>\n",
    "\n",
    "You can make different combinations of alphabets by pressing the numbers.\n",
    "\n",
    "For example, if you press 23, the following combinations are possible:\n",
    "\n",
    "`ad, ae, af, bd, be, bf, cd, ce, cf`\n",
    "\n",
    "Note that because 2 is pressed before 3, the first letter is always an alphabet on the number 2.\n",
    "Likewise, if the user types 32, the order would be\n",
    "\n",
    "`da, db, dc, ea, eb, ec, fa, fb, fc`\n",
    "\n",
    "\n",
    "Given an integer `num`, find out all the possible strings that can be made using digits of input `num`. \n",
    "Return these strings in a list. The order of strings in the list does not matter. However, as stated earlier, the order of letters in a particular string matters."
   ]
  },
  {
   "cell_type": "code",
   "execution_count": 19,
   "metadata": {
    "graffitiCellId": "id_ffyjq5w"
   },
   "outputs": [],
   "source": [
    "def get_characters(num):\n",
    "    if num == 2:\n",
    "        return \"abc\"\n",
    "    elif num == 3:\n",
    "        return \"def\"\n",
    "    elif num == 4:\n",
    "        return \"ghi\"\n",
    "    elif num == 5:\n",
    "        return \"jkl\"\n",
    "    elif num == 6:\n",
    "        return \"mno\"\n",
    "    elif num == 7:\n",
    "        return \"pqrs\"\n",
    "    elif num == 8:\n",
    "        return \"tuv\"\n",
    "    elif num == 9:\n",
    "        return \"wxyz\"\n",
    "    else:\n",
    "        return \"\"\n",
    "\n",
    "\n",
    "def keypad(num):\n",
    "    #check edge case\n",
    "    str_num = str(num)\n",
    "    if len(str_num)==0 or num == 0 or num == 1:\n",
    "        return [\"\"]\n",
    "    if len(str_num)==1:\n",
    "        return [char for char in get_characters(num)]\n",
    "    if len(str_num)==2:\n",
    "        result = []\n",
    "        for char in keypad(int(str_num[0])):\n",
    "            for char2 in keypad(int(str_num[1])):\n",
    "                result.append(char+char2)\n",
    "        print(result)\n",
    "        return result\n",
    "    \n",
    "    # if num has more than 2 number, call keypad on the sub digit of num and add characters of the last digits to end\n",
    "    sub = int(str(num)[:-1])\n",
    "    last = int(str(num)[-1])\n",
    "    output = []\n",
    "    for char in keypad(sub):\n",
    "        for char2 in keypad(last):\n",
    "            output.append(char+char2)\n",
    "    return output\n",
    "        "
   ]
  },
  {
   "cell_type": "code",
   "execution_count": 20,
   "metadata": {
    "graffitiCellId": "id_l66zrar"
   },
   "outputs": [],
   "source": [
    "def test_keypad(input, expected_output):\n",
    "    if sorted(keypad(input)) == expected_output:\n",
    "        print(f\"Yay. We got it right. Result = {sorted(keypad(input))}\")\n",
    "    else:\n",
    "        print(f\"{sorted(keypad(input))} was incorrect.\")"
   ]
  },
  {
   "cell_type": "code",
   "execution_count": 21,
   "metadata": {
    "graffitiCellId": "id_vnyax73"
   },
   "outputs": [
    {
     "name": "stdout",
     "output_type": "stream",
     "text": [
      "Yay. We got it right. Result = ['']\n"
     ]
    }
   ],
   "source": [
    "# Base case: list with empty string\n",
    "input = 0\n",
    "expected_output = [\"\"]\n",
    "test_keypad(input, expected_output)"
   ]
  },
  {
   "cell_type": "code",
   "execution_count": 22,
   "metadata": {
    "graffitiCellId": "id_458su6i"
   },
   "outputs": [
    {
     "name": "stdout",
     "output_type": "stream",
     "text": [
      "['ad', 'ae', 'af', 'bd', 'be', 'bf', 'cd', 'ce', 'cf']\n",
      "['ad', 'ae', 'af', 'bd', 'be', 'bf', 'cd', 'ce', 'cf']\n",
      "Yay. We got it right. Result = ['ad', 'ae', 'af', 'bd', 'be', 'bf', 'cd', 'ce', 'cf']\n"
     ]
    }
   ],
   "source": [
    "# Example case\n",
    "input = 23\n",
    "expected_output = sorted([\"ad\", \"ae\", \"af\", \"bd\", \"be\", \"bf\", \"cd\", \"ce\", \"cf\"])\n",
    "test_keypad(input, expected_output)"
   ]
  },
  {
   "cell_type": "code",
   "execution_count": 23,
   "metadata": {
    "graffitiCellId": "id_j04lazf"
   },
   "outputs": [
    {
     "name": "stdout",
     "output_type": "stream",
     "text": [
      "['da', 'db', 'dc', 'ea', 'eb', 'ec', 'fa', 'fb', 'fc']\n",
      "['da', 'db', 'dc', 'ea', 'eb', 'ec', 'fa', 'fb', 'fc']\n",
      "Yay. We got it right. Result = ['da', 'db', 'dc', 'ea', 'eb', 'ec', 'fa', 'fb', 'fc']\n"
     ]
    }
   ],
   "source": [
    "# Example case\n",
    "input = 32\n",
    "expected_output = sorted([\"da\", \"db\", \"dc\", \"ea\", \"eb\", \"ec\", \"fa\", \"fb\", \"fc\"])\n",
    "test_keypad(input, expected_output)"
   ]
  },
  {
   "cell_type": "code",
   "execution_count": 24,
   "metadata": {
    "graffitiCellId": "id_4ziwk7w"
   },
   "outputs": [
    {
     "name": "stdout",
     "output_type": "stream",
     "text": [
      "Yay. We got it right. Result = ['t', 'u', 'v']\n"
     ]
    }
   ],
   "source": [
    "# Example case\n",
    "input = 8\n",
    "expected_output = sorted([\"t\", \"u\", \"v\"])\n",
    "test_keypad(input, expected_output)"
   ]
  },
  {
   "cell_type": "code",
   "execution_count": 25,
   "metadata": {
    "graffitiCellId": "id_u7fe0h1"
   },
   "outputs": [
    {
     "name": "stdout",
     "output_type": "stream",
     "text": [
      "['dj', 'dk', 'dl', 'ej', 'ek', 'el', 'fj', 'fk', 'fl']\n",
      "['dj', 'dk', 'dl', 'ej', 'ek', 'el', 'fj', 'fk', 'fl']\n",
      "Yay. We got it right. Result = ['djg', 'djh', 'dji', 'dkg', 'dkh', 'dki', 'dlg', 'dlh', 'dli', 'ejg', 'ejh', 'eji', 'ekg', 'ekh', 'eki', 'elg', 'elh', 'eli', 'fjg', 'fjh', 'fji', 'fkg', 'fkh', 'fki', 'flg', 'flh', 'fli']\n"
     ]
    }
   ],
   "source": [
    "input = 354\n",
    "expected_output = sorted([\"djg\", \"ejg\", \"fjg\", \"dkg\", \"ekg\", \"fkg\", \"dlg\", \"elg\", \"flg\", \"djh\", \"ejh\", \"fjh\", \"dkh\", \"ekh\", \"fkh\", \"dlh\", \"elh\", \"flh\", \"dji\", \"eji\", \"fji\", \"dki\", \"eki\", \"fki\", \"dli\", \"eli\", \"fli\"])\n",
    "test_keypad(input, expected_output)"
   ]
  },
  {
   "cell_type": "code",
   "execution_count": null,
   "metadata": {
    "graffitiCellId": "id_haj1ksk"
   },
   "outputs": [],
   "source": [
    "\n",
    "# Recursive Solution\n",
    "def keypad(num):\n",
    "    \n",
    "    # Base case\n",
    "    if num <= 1:\n",
    "        return [\"\"]\n",
    "\n",
    "    # If `num` is single digit, get the LIST having one element - the associated string\n",
    "    elif 1 < num <= 9:\n",
    "        return list(get_characters(num))\n",
    "\n",
    "    # Otherwise `num` >= 10. Find the unit's (last) digits of `num` \n",
    "    last_digit = num % 10\n",
    "    \n",
    "    '''Step 1'''\n",
    "    # Recursive call to the same function with “floor” of the `num//10`\n",
    "    small_output = keypad(num//10)               # returns a LIST of strings\n",
    "    \n",
    "    '''Step 2'''\n",
    "    # Get the associated string for the `last_digit`\n",
    "    keypad_string = get_characters(last_digit)   # returns a string\n",
    "    \n",
    "    '''Permute the characters of result obtained from Step 1 and Step 2'''\n",
    "    output = list()\n",
    "\n",
    "    '''\n",
    "    The Idea:\n",
    "    Each character of keypad_string must be appended to the \n",
    "    end of each string available in the small_output\n",
    "    '''\n",
    "    for character in keypad_string:\n",
    "        for item in small_output:\n",
    "            new_item = item + character\n",
    "            output.append(new_item)\n",
    "    \n",
    "    return output                                # returns a LIST of strings\n",
    "\n",
    "\n"
   ]
  }
 ],
 "metadata": {
  "graffiti": {
   "firstAuthorId": "10694620118",
   "id": "id_c01kx0l",
   "language": "EN"
  },
  "kernelspec": {
   "display_name": "Python 3",
   "language": "python",
   "name": "python3"
  },
  "language_info": {
   "codemirror_mode": {
    "name": "ipython",
    "version": 3
   },
   "file_extension": ".py",
   "mimetype": "text/x-python",
   "name": "python",
   "nbconvert_exporter": "python",
   "pygments_lexer": "ipython3",
   "version": "3.8.2"
  }
 },
 "nbformat": 4,
 "nbformat_minor": 2
}
