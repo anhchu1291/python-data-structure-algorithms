{
 "cells": [
  {
   "cell_type": "markdown",
   "metadata": {},
   "source": [
    "## Binary Search\n",
    "#### Overview\n",
    "\n",
    "Given a **sorted** list (say `arr`), and a key (say `target`). The binary search algorithm returns the index of the `target` element if it is present in the given `arr` list, else returns -1. Here is an overview of how the the recursive version of binary search algorithm works:\n",
    "\n",
    "1. Given a list with the lower bound (`start_index`) and the upper bound (`end_index`). \n",
    "1. Find the center (say `mid_index`) of the list. \n",
    " 1. Check if the element at the center is your `target`? If yes, return the `mid_index`.<br><br>\n",
    " 1. Check if the `target` is greater than that element at `mid_index`? If yes, call the same function with right sub-array w.r.t center i.e., updated indexes as `mid_index + 1` to `end_index` <br><br>\n",
    " 1. Check if the `target` is less than that element at `mid_index`? If yes, call the same function with left sub-array w.r.t center i.e., updated indexes as `start_index` to `mid_index - 1` <br><br>\n",
    "1. Repeat the step above until you find the target or until the bounds are the same or cross (the upper bound is less than the lower bound).\n",
    "\n",
    "#### Complexity Analysis\n",
    "Time complexity of log(n) where n is the length of input list"
   ]
  },
  {
   "cell_type": "code",
   "execution_count": 39,
   "metadata": {},
   "outputs": [],
   "source": [
    "def binary_search(arr,target):\n",
    "    return _binary_search(arr,target,0,len(arr)-1)\n",
    "\n",
    "def _binary_search(arr,target,start_index,end_index):\n",
    "    print(start_index,end_index)\n",
    "    if start_index > end_index:\n",
    "        return -1\n",
    "    mid_index = (start_index+end_index)//2\n",
    "    if target == arr[mid_index]:\n",
    "        return mid_index\n",
    "    elif target < arr[mid_index]:\n",
    "        end_index = mid_index-1\n",
    "        return _binary_search(arr,target,start_index,end_index)\n",
    "    elif target > arr[mid_index]:\n",
    "        start_index = mid_index+1\n",
    "        return _binary_search(arr,target,start_index,end_index)\n",
    "    "
   ]
  },
  {
   "cell_type": "code",
   "execution_count": 40,
   "metadata": {},
   "outputs": [],
   "source": [
    "def test_function(testcase):\n",
    "    arr = testcase[0]\n",
    "    target = testcase[1]\n",
    "    solution = testcase[2]\n",
    "    output = binary_search(arr,target)\n",
    "    print(output)\n",
    "    if output == solution:\n",
    "        return 'Pass'\n",
    "    else:\n",
    "        return 'Fail'"
   ]
  },
  {
   "cell_type": "code",
   "execution_count": 41,
   "metadata": {},
   "outputs": [
    {
     "name": "stdout",
     "output_type": "stream",
     "text": [
      "0 8\n",
      "5 8\n",
      "5 5\n",
      "5\n"
     ]
    },
    {
     "data": {
      "text/plain": [
       "'Pass'"
      ]
     },
     "execution_count": 41,
     "metadata": {},
     "output_type": "execute_result"
    }
   ],
   "source": [
    "arr = [0, 1, 2, 3, 4, 5, 6, 7, 8]\n",
    "test_function([arr,5,5])"
   ]
  },
  {
   "cell_type": "code",
   "execution_count": 42,
   "metadata": {},
   "outputs": [
    {
     "name": "stdout",
     "output_type": "stream",
     "text": [
      "0 -1\n",
      "-1\n"
     ]
    },
    {
     "data": {
      "text/plain": [
       "'Pass'"
      ]
     },
     "execution_count": 42,
     "metadata": {},
     "output_type": "execute_result"
    }
   ],
   "source": [
    "arr = []\n",
    "test_function([arr,5,-1])"
   ]
  },
  {
   "cell_type": "code",
   "execution_count": 43,
   "metadata": {},
   "outputs": [
    {
     "name": "stdout",
     "output_type": "stream",
     "text": [
      "0 0\n",
      "0\n"
     ]
    },
    {
     "data": {
      "text/plain": [
       "'Pass'"
      ]
     },
     "execution_count": 43,
     "metadata": {},
     "output_type": "execute_result"
    }
   ],
   "source": [
    "arr = [5]\n",
    "test_function([arr,5,0])"
   ]
  },
  {
   "cell_type": "code",
   "execution_count": 45,
   "metadata": {},
   "outputs": [
    {
     "name": "stdout",
     "output_type": "stream",
     "text": [
      "0 0\n",
      "0 -1\n",
      "-1\n"
     ]
    },
    {
     "data": {
      "text/plain": [
       "'Pass'"
      ]
     },
     "execution_count": 45,
     "metadata": {},
     "output_type": "execute_result"
    }
   ],
   "source": [
    "arr = [6]\n",
    "test_function([arr,5,-1])"
   ]
  },
  {
   "cell_type": "code",
   "execution_count": null,
   "metadata": {},
   "outputs": [],
   "source": []
  }
 ],
 "metadata": {
  "kernelspec": {
   "display_name": "Python 3",
   "language": "python",
   "name": "python3"
  },
  "language_info": {
   "codemirror_mode": {
    "name": "ipython",
    "version": 3
   },
   "file_extension": ".py",
   "mimetype": "text/x-python",
   "name": "python",
   "nbconvert_exporter": "python",
   "pygments_lexer": "ipython3",
   "version": "3.8.2"
  }
 },
 "nbformat": 4,
 "nbformat_minor": 4
}
