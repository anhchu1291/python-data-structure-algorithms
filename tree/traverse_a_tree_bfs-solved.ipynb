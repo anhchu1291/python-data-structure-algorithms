{
 "cells": [
  {
   "cell_type": "markdown",
   "metadata": {},
   "source": [
    "## Traverse a tree (breadth first search)\n",
    "\n",
    "We'll now practice implementing breadth first search (BFS)."
   ]
  },
  {
   "cell_type": "markdown",
   "metadata": {},
   "source": [
    "## Creating a sample tree\n",
    "\n",
    "We'll create a tree that looks like the following:"
   ]
  },
  {
   "cell_type": "markdown",
   "metadata": {},
   "source": [
    "![tree image](images/tree_01.png \"Tree\")"
   ]
  },
  {
   "cell_type": "code",
   "execution_count": 17,
   "metadata": {},
   "outputs": [],
   "source": [
    "class Node:\n",
    "    def __init__(self,value):\n",
    "        self.value = value\n",
    "        self.left = None\n",
    "        self.right = None\n",
    "    def set_left_child(self,value):\n",
    "        self.left = value\n",
    "    def set_right_child(self,value):\n",
    "        self.right = value\n",
    "    def has_left_child(self):\n",
    "        return self.left is not None\n",
    "    def has_right_child(self):\n",
    "        return self.right is not None\n",
    "    def __repr__(self):\n",
    "        return str(f'Node({self.value})')\n",
    "    \n",
    "class Tree:\n",
    "    def __init__(self,value):\n",
    "        self.root = Node(value)\n",
    "    def get_root(self):\n",
    "        return self.root"
   ]
  },
  {
   "cell_type": "code",
   "execution_count": 86,
   "metadata": {},
   "outputs": [],
   "source": [
    "tree = Tree('apple')\n",
    "tree.get_root().set_left_child(Node('banana'))\n",
    "tree.get_root().left.set_left_child(Node('dates'))\n",
    "tree.get_root().left.set_right_child(Node('lemon'))\n",
    "tree.get_root().left.left.set_left_child(Node('guava'))\n",
    "tree.get_root().left.left.set_right_child(Node('jackfruit'))\n",
    "tree.get_root().set_right_child(Node('cherry'))\n",
    "tree.get_root().right.set_left_child(Node('berry'))\n",
    "tree.get_root().right.set_right_child(Node('strawberry'))"
   ]
  },
  {
   "cell_type": "markdown",
   "metadata": {},
   "source": [
    "## Breadth first search\n",
    "Breadth first traversal of the tree would visit the nodes in this order:  \n",
    "\n",
    "![tree image](images/tree_01.png \"Tree\")\n",
    "\n",
    "apple, banana, cherry, dates"
   ]
  },
  {
   "cell_type": "markdown",
   "metadata": {},
   "source": [
    "#### Think through the algorithm\n",
    "\n",
    "We are walking down the tree one level at a time. So we start with apple at the root, and next are banana and cherry, and next is dates.\n",
    "\n",
    "\n",
    "1) start at the root node  \n",
    "2) visit the root node's left child (banana), then right child (cherry)  \n",
    "3) visit the left and right children of (banana) and (cherry).\n",
    "\n",
    "## Queue\n",
    "\n",
    "Notice that we're waiting until we visit \"cherry\" before visiting \"dates\".  It's like they're waiting in line.  We can use a queue to keep track of the order."
   ]
  },
  {
   "cell_type": "markdown",
   "metadata": {},
   "source": [
    "## task 01: bfs with queue\n"
   ]
  },
  {
   "cell_type": "code",
   "execution_count": 87,
   "metadata": {},
   "outputs": [],
   "source": [
    "class Queue:\n",
    "    def __init__(self, inputList =[]):\n",
    "        self.list = inputList\n",
    "    def is_empty(self):\n",
    "        return len(self.list)==0\n",
    "    def enq(self,value):\n",
    "        self.list.append(value)\n",
    "    def deq(self):\n",
    "        if self.is_empty():\n",
    "            return\n",
    "        else:\n",
    "            return self.list.pop(0)\n",
    "    def __repr__(self):\n",
    "        s = '--->'.join([str(e) for e in self.list[::-1]])\n",
    "        return s\n",
    "    def __str__(self):\n",
    "        s = '--->'.join([str(e) for e in self.list[::-1]])\n",
    "        return s\n",
    "    "
   ]
  },
  {
   "cell_type": "code",
   "execution_count": 88,
   "metadata": {},
   "outputs": [],
   "source": [
    "def bfs_queue(tree):\n",
    "    node = tree.get_root()\n",
    "    queue = Queue()\n",
    "    visit_order = []\n",
    "    queue.enq(node)\n",
    "    \n",
    "    while not queue.is_empty():\n",
    "        if node:\n",
    "            node = queue.deq()\n",
    "            #print(node.value)\n",
    "            visit_order.append(node.value)\n",
    "            if node.has_left_child():\n",
    "                queue.enq(node.left)\n",
    "            if node.has_right_child():\n",
    "                queue.enq(node.right)\n",
    "    return visit_order\n",
    "    "
   ]
  },
  {
   "cell_type": "code",
   "execution_count": 89,
   "metadata": {},
   "outputs": [
    {
     "data": {
      "text/plain": [
       "['apple',\n",
       " 'banana',\n",
       " 'cherry',\n",
       " 'dates',\n",
       " 'lemon',\n",
       " 'berry',\n",
       " 'strawberry',\n",
       " 'guava',\n",
       " 'jackfruit']"
      ]
     },
     "execution_count": 89,
     "metadata": {},
     "output_type": "execute_result"
    }
   ],
   "source": [
    "bfs_queue(tree)"
   ]
  },
  {
   "cell_type": "markdown",
   "metadata": {},
   "source": [
    "## Bonus Task: write a print function\n",
    "\n",
    "Define the print function for the Tree class.  Nodes on the same level are printed on the same line. \n",
    "\n",
    "For example, the tree we've been using would print out like this:\n",
    "```\n",
    "Node(apple)\n",
    "Node(banana) | Node(cherry)\n",
    "Node(dates) | <empty> | <empty> | <empty>\n",
    "<empty> | <empty>\n",
    "```\n",
    "We'll have `<empty>` be placeholders so that we can keep track of which node is a child or parent of the other nodes.\n",
    "\n",
    "**hint**: use a variable to keep track of which level each node is on.  For instance, the root node is on level 0, and its child nodes are on level 1."
   ]
  },
  {
   "cell_type": "code",
   "execution_count": 105,
   "metadata": {},
   "outputs": [],
   "source": [
    "class Tree: #add __repr__ and __str__ function\n",
    "    def __init__(self,value):\n",
    "        self.root = Node(value)\n",
    "    def get_root(self):\n",
    "        return self.root\n",
    "    def bfs_queue(self):\n",
    "        node = self.get_root()\n",
    "        queue = Queue()\n",
    "        visit_order = []\n",
    "        level = 0\n",
    "        queue.enq((level,node))\n",
    "        #level, node = queue.deq()\n",
    "        #node = queue.deq()[1]\n",
    "        #print(level,node)\n",
    "        \n",
    "        while not queue.is_empty():\n",
    "            level,node = queue.deq()\n",
    "            if not node:\n",
    "                visit_order.append((level,'<empty>'))\n",
    "            if node:\n",
    "                visit_order.append((level,node))\n",
    "                #if node.has_left_child():\n",
    "                level+=1\n",
    "                queue.enq((level,node.left))\n",
    "\n",
    "                #if node.has_right_child():\n",
    "                #level+=1\n",
    "                queue.enq((level,node.right))\n",
    "                    \n",
    "        return visit_order\n",
    "        \n",
    "    def __repr__(self):\n",
    "        visit_order = self.bfs_queue()\n",
    "        return str(visit_order)\n",
    "    \n",
    "    def __str__(self):\n",
    "        visit_order = self.bfs_queue()\n",
    "        prev_level = -1\n",
    "        s = 'TREE STRUCTURE'\n",
    "        for element in visit_order: \n",
    "            level,node = element\n",
    "            if prev_level==level:\n",
    "                s+='|'+str(node)\n",
    "            else:\n",
    "                s+='\\n' +str(node)\n",
    "                prev_level+=1\n",
    "        return s    "
   ]
  },
  {
   "cell_type": "code",
   "execution_count": 106,
   "metadata": {},
   "outputs": [
    {
     "data": {
      "text/plain": [
       "[(0, Node(apple)),\n",
       " (1, Node(banana)),\n",
       " (1, Node(cherry)),\n",
       " (2, Node(dates)),\n",
       " (2, Node(lemon)),\n",
       " (2, Node(berry)),\n",
       " (2, Node(strawberry)),\n",
       " (3, Node(guava)),\n",
       " (3, Node(jackfruit)),\n",
       " (3, '<empty>'),\n",
       " (3, '<empty>'),\n",
       " (3, '<empty>'),\n",
       " (3, '<empty>'),\n",
       " (3, '<empty>'),\n",
       " (3, '<empty>'),\n",
       " (4, '<empty>'),\n",
       " (4, '<empty>'),\n",
       " (4, '<empty>'),\n",
       " (4, '<empty>')]"
      ]
     },
     "execution_count": 106,
     "metadata": {},
     "output_type": "execute_result"
    }
   ],
   "source": [
    "tree = Tree('apple')\n",
    "tree.get_root().set_left_child(Node('banana'))\n",
    "tree.get_root().left.set_left_child(Node('dates'))\n",
    "tree.get_root().left.set_right_child(Node('lemon'))\n",
    "tree.get_root().left.left.set_left_child(Node('guava'))\n",
    "tree.get_root().left.left.set_right_child(Node('jackfruit'))\n",
    "tree.get_root().set_right_child(Node('cherry'))\n",
    "tree.get_root().right.set_left_child(Node('berry'))\n",
    "tree.get_root().right.set_right_child(Node('strawberry'))\n",
    "\n",
    "tree.bfs_queue()"
   ]
  },
  {
   "cell_type": "code",
   "execution_count": 107,
   "metadata": {},
   "outputs": [
    {
     "name": "stdout",
     "output_type": "stream",
     "text": [
      "TREE STRUCTURE\n",
      "Node(apple)\n",
      "Node(banana)|Node(cherry)\n",
      "Node(dates)|Node(lemon)|Node(berry)|Node(strawberry)\n",
      "Node(guava)|Node(jackfruit)|<empty>|<empty>|<empty>|<empty>|<empty>|<empty>\n",
      "<empty>|<empty>|<empty>|<empty>\n"
     ]
    }
   ],
   "source": [
    "print(tree)"
   ]
  },
  {
   "cell_type": "code",
   "execution_count": null,
   "metadata": {},
   "outputs": [],
   "source": []
  }
 ],
 "metadata": {
  "kernelspec": {
   "display_name": "Python 3",
   "language": "python",
   "name": "python3"
  },
  "language_info": {
   "codemirror_mode": {
    "name": "ipython",
    "version": 3
   },
   "file_extension": ".py",
   "mimetype": "text/x-python",
   "name": "python",
   "nbconvert_exporter": "python",
   "pygments_lexer": "ipython3",
   "version": "3.8.2"
  }
 },
 "nbformat": 4,
 "nbformat_minor": 2
}
