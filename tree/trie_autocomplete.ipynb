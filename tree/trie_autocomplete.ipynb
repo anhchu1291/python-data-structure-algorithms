{
 "cells": [
  {
   "cell_type": "markdown",
   "metadata": {},
   "source": [
    "## Autocomplete a word using Trie\n",
    "Add a `Suffices` function to Trie class to return a list of all possible suffices exist in the trie. "
   ]
  },
  {
   "cell_type": "code",
   "execution_count": 99,
   "metadata": {},
   "outputs": [],
   "source": [
    "class TrieNode:\n",
    "    def __init__(self):\n",
    "        self.is_word = False\n",
    "        self.children = {}\n",
    "        \n",
    "class Trie:\n",
    "    def __init__(self):\n",
    "        self.root = TrieNode()\n",
    "        \n",
    "    def add(self, word):\n",
    "        node = self.root\n",
    "        for char in word:\n",
    "            if char not in node.children: \n",
    "                node.children[char] = TrieNode()\n",
    "            node = node.children[char]\n",
    "        node.is_word = True\n",
    "        \n",
    "    def exists(self, word):\n",
    "        node = self.root\n",
    "        for char in word:\n",
    "            if char not in node.children:\n",
    "                return False\n",
    "            else:\n",
    "                node = node.children[char]\n",
    "        return node.is_word\n",
    "    \n",
    "    def findSuffices(self, suffices = ''):\n",
    "        '''\n",
    "        without suffices parameter, return all suffices for all words below the trie\n",
    "        '''\n",
    "        node = self.root\n",
    "        output = []\n",
    "        # if len(suffices) == 0: \n",
    "        if suffices[0] in node.children: \n",
    "            return 'Not Found'\n",
    "        else: \n",
    "            for char in suffices:\n",
    "                if char in node.children: \n",
    "                    node = node.children[char]\n",
    "                else: # run into a char not in node \n",
    "                    return 'Not Found'\n",
    "            \n",
    "            # run to the end of char, from the current node, traverse to word\n",
    "            while not node.is_word: \n",
    "                \n",
    "            "
   ]
  },
  {
   "cell_type": "code",
   "execution_count": 104,
   "metadata": {},
   "outputs": [
    {
     "name": "stdout",
     "output_type": "stream",
     "text": [
      "\"bear\" is a word.\n",
      "\"goo\" is a word.\n",
      "\"good\" is a word.\n",
      "\"goos\" is NOT a word.\n"
     ]
    }
   ],
   "source": [
    "word_list = ['apple', 'bear', 'goo', 'good', 'goodbye', 'goods', 'goodwill', 'gooses'  ,'zebra']\n",
    "word_trie = Trie()\n",
    "\n",
    "# Add words\n",
    "for word in word_list:\n",
    "    word_trie.add(word)\n",
    "\n",
    "# Test words\n",
    "test_words = ['bear', 'goo', 'good', 'goos']\n",
    "for word in test_words:\n",
    "    if word_trie.exists(word):\n",
    "        print('\"{}\" is a word.'.format(word))\n",
    "    else:\n",
    "        print('\"{}\" is NOT a word.'.format(word))"
   ]
  },
  {
   "cell_type": "code",
   "execution_count": null,
   "metadata": {},
   "outputs": [],
   "source": []
  }
 ],
 "metadata": {
  "kernelspec": {
   "display_name": "Python 3",
   "language": "python",
   "name": "python3"
  },
  "language_info": {
   "codemirror_mode": {
    "name": "ipython",
    "version": 3
   },
   "file_extension": ".py",
   "mimetype": "text/x-python",
   "name": "python",
   "nbconvert_exporter": "python",
   "pygments_lexer": "ipython3",
   "version": "3.8.2"
  }
 },
 "nbformat": 4,
 "nbformat_minor": 4
}
