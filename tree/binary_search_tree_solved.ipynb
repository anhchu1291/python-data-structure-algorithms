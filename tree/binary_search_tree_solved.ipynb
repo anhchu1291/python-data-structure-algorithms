{
 "cells": [
  {
   "cell_type": "markdown",
   "metadata": {},
   "source": [
    "# Binary Search Tree"
   ]
  },
  {
   "cell_type": "markdown",
   "metadata": {},
   "source": [
    "![image](./images/bst_01.png)"
   ]
  },
  {
   "cell_type": "markdown",
   "metadata": {},
   "source": [
    "#### Define Node class"
   ]
  },
  {
   "cell_type": "code",
   "execution_count": 1,
   "metadata": {},
   "outputs": [],
   "source": [
    "class Node:\n",
    "    def __init__(self,value):\n",
    "        self.value = value\n",
    "        self.left = None\n",
    "        self.right = None\n",
    "    def __repr__(self):\n",
    "        return str(f'Node({self.value})')\n",
    "    def __str__(self):\n",
    "        return str(f'Node({self.value})')"
   ]
  },
  {
   "cell_type": "code",
   "execution_count": 2,
   "metadata": {},
   "outputs": [],
   "source": [
    "class Queue:\n",
    "    def __init__(self, inputList =[]):\n",
    "        self.list = inputList\n",
    "    def is_empty(self):\n",
    "        return len(self.list)==0\n",
    "    def enq(self,value):\n",
    "        self.list.append(value)\n",
    "    def deq(self):\n",
    "        if self.is_empty():\n",
    "            return\n",
    "        else:\n",
    "            return self.list.pop(0)\n",
    "    def __repr__(self):\n",
    "        s = '--->'.join([str(e) for e in self.list[::-1]])\n",
    "        return s\n",
    "    def __str__(self):\n",
    "        s = '--->'.join([str(e) for e in self.list[::-1]])\n",
    "        return s\n",
    "    "
   ]
  },
  {
   "cell_type": "markdown",
   "metadata": {},
   "source": [
    "## Task: insert - search - delete"
   ]
  },
  {
   "cell_type": "markdown",
   "metadata": {},
   "source": [
    "####  Insert a new node in binary search tree\n",
    "0. Base case\n",
    "* current node is None, add node\n",
    "1. if new_node == current_node:\n",
    "* Let's assume that duplicates are overriden by the new node that is to be inserted.  Other options are to keep a counter of duplicate nodes, or to keep a list of duplicates nodes with the same value.\n",
    "2. if new_node < current_node:\n",
    "* Go to left subtree\n",
    "3. if new_node > current_node:\n",
    "* Go to right subtree"
   ]
  },
  {
   "cell_type": "markdown",
   "metadata": {},
   "source": [
    "#### Search\n",
    "\n",
    "Define a search function that takes a value, and returns true if a node containing that value exists in the tree, otherwise false.\n",
    "\n",
    "#### Delete\n",
    "edge cases:\n",
    "* empty tree: return False\n",
    "* node not in tree: return False\n",
    "* else:\n",
    "return True\n",
    "1. Node to be deleted is leaf: simply delete node\n",
    "2. Node to be deleted has 1 child: copy child to node and delete child\n",
    "3. Node to be deleted has 2 children: find inorder successor (the smallest node in the right subtree), copy to node and delete the successor\n"
   ]
  },
  {
   "cell_type": "code",
   "execution_count": 3,
   "metadata": {},
   "outputs": [],
   "source": [
    "class Tree:\n",
    "    def __init__(self):\n",
    "        self.root = None\n",
    "        \n",
    "    def get_root(self):\n",
    "        return self.root\n",
    "    \n",
    "    def insert_with_loop(self,value):\n",
    "        new_node = Node(value)\n",
    "        current_node = self.get_root()\n",
    "        if current_node == None:\n",
    "            self.root = new_node\n",
    "            return \n",
    "        else:\n",
    "            while current_node:\n",
    "                if current_node.value == value: \n",
    "                    break\n",
    "                elif current_node.value > value:\n",
    "                    if current_node.left:\n",
    "                        current_node = current_node.left\n",
    "                    else:\n",
    "                        current_node.left = new_node\n",
    "                        break\n",
    "                    \n",
    "                elif current_node.value < value:\n",
    "                    if current_node.right:\n",
    "                        current_node = current_node.right\n",
    "                    else:\n",
    "                        current_node.right = new_node\n",
    "                        break\n",
    "                        \n",
    "    def insert_with_recursion(self,value):\n",
    "        if self.root == None:\n",
    "            self.root = Node(value)\n",
    "        else:\n",
    "            #current_node = self.root\n",
    "            return self._insert(self.root,value)\n",
    "        \n",
    "    def _insert(self,current_node,value):\n",
    "        if current_node.value == value:\n",
    "            current_node = Node(value)\n",
    "            return\n",
    "        \n",
    "        elif current_node.value>value:\n",
    "            if current_node.left:\n",
    "                self._insert(current_node.left,value)\n",
    "            else:\n",
    "                current_node.left = Node(value)\n",
    "            \n",
    "        elif current_node.value<value:\n",
    "            if current_node.right:\n",
    "                self._insert(current_node.right,value)\n",
    "            else:\n",
    "                current_node.right = Node(value)\n",
    "                \n",
    "    def search(self,value):\n",
    "        '''\n",
    "        Define a search function that takes a value, \n",
    "        and returns true if a node containing that value exists in the tree, otherwise false.\n",
    "        '''\n",
    "        node = self.root\n",
    "        while node: \n",
    "            if node.value == value:\n",
    "                return True\n",
    "            elif node.value > value:\n",
    "                node = node.left\n",
    "            elif node.value < value:\n",
    "                node = node.right\n",
    "        return False\n",
    "        \n",
    "    def delete(self, value):\n",
    "        node = self.root\n",
    "        return self._deleteNode(node, value)\n",
    "    \n",
    "    def _deleteNode(self, node, value):\n",
    "        if not node:\n",
    "            return node\n",
    "        elif value < node.value: \n",
    "            print('go to left subtree', node.left)\n",
    "            node.left = self._deleteNode(node.left, value)\n",
    "        elif value > node.value:\n",
    "            print('go to right subtree', node.right)\n",
    "            node.right = self._deleteNode(node.right, value)\n",
    "        else:\n",
    "            print('Find Node == value', node.value)\n",
    "            if not node.left: \n",
    "                print('node has no left child')\n",
    "                temp = node.right # disconnect right child out of node before delete node\n",
    "                node = None\n",
    "                return temp\n",
    "            elif not node.right:\n",
    "                print('node has no right child')\n",
    "                temp = node.left # disconnect left child out of node before delete node\n",
    "                node = None\n",
    "                return temp\n",
    "            else:\n",
    "                print('node has 2 children')\n",
    "                temp = self._min_value(node.right) # find the minimum value in the right subtree\n",
    "                node.value = temp.value\n",
    "                node.right = self._deleteNode(node.right, temp.value) # delete the min node of the right subtree\n",
    "        print('Go up 1 level', node)\n",
    "        return node\n",
    "            \n",
    "    def _min_value(self, node):\n",
    "        current = node\n",
    "        while current.left:\n",
    "            current = current.left\n",
    "        return current\n",
    "            \n",
    "    def __repr__(self):\n",
    "        node = self.get_root()\n",
    "        queue = Queue()\n",
    "        visit_order = []\n",
    "        level = 0\n",
    "        queue.enq((level,node))\n",
    "        \n",
    "        while not queue.is_empty():\n",
    "            level,node = queue.deq()\n",
    "            if not node:\n",
    "                visit_order.append((level,'<empty>'))\n",
    "            if node:\n",
    "                visit_order.append((level,node))\n",
    "                level+=1\n",
    "                queue.enq((level,node.left))\n",
    "                queue.enq((level,node.right))\n",
    "                \n",
    "        prev_level = -1\n",
    "        s = 'TREE STRUCTURE'\n",
    "        for element in visit_order: \n",
    "            level,node = element\n",
    "            if prev_level==level:\n",
    "                s+='|'+str(node)\n",
    "            else:\n",
    "                s+='\\n' +str(node)\n",
    "                prev_level+=1\n",
    "        return s \n"
   ]
  },
  {
   "cell_type": "code",
   "execution_count": 4,
   "metadata": {},
   "outputs": [
    {
     "data": {
      "text/plain": [
       "TREE STRUCTURE\n",
       "Node(15)\n",
       "Node(8)|Node(23)\n",
       "Node(5)|<empty>|Node(19)|Node(27)\n",
       "Node(4)|Node(6)|<empty>|Node(21)|Node(26)|Node(32)\n",
       "<empty>|<empty>|<empty>|<empty>|Node(20)|<empty>|Node(24)|<empty>|Node(28)|<empty>\n",
       "<empty>|<empty>|<empty>|Node(25)|<empty>|Node(29)\n",
       "<empty>|<empty>|<empty>|<empty>"
      ]
     },
     "execution_count": 4,
     "metadata": {},
     "output_type": "execute_result"
    }
   ],
   "source": [
    "# Test Insert\n",
    "tree = Tree()\n",
    "tree.insert_with_recursion(15)\n",
    "tree.insert_with_loop(8)\n",
    "tree.insert_with_loop(5)\n",
    "tree.insert_with_loop(4)\n",
    "tree.insert_with_loop(6)\n",
    "tree.insert_with_loop(23)\n",
    "tree.insert_with_recursion(19)\n",
    "tree.insert_with_loop(21)\n",
    "tree.insert_with_loop(20)\n",
    "tree.insert_with_recursion(27)\n",
    "tree.insert_with_loop(26)\n",
    "tree.insert_with_loop(32)\n",
    "tree.insert_with_loop(24)\n",
    "tree.insert_with_loop(25)\n",
    "tree.insert_with_recursion(28)\n",
    "tree.insert_with_recursion(29)\n",
    "\n",
    "tree"
   ]
  },
  {
   "cell_type": "markdown",
   "metadata": {},
   "source": [
    "### Test Delete"
   ]
  },
  {
   "cell_type": "code",
   "execution_count": 5,
   "metadata": {},
   "outputs": [
    {
     "name": "stdout",
     "output_type": "stream",
     "text": [
      "go to right subtree Node(23)\n",
      "go to right subtree Node(27)\n",
      "go to left subtree Node(26)\n",
      "go to left subtree Node(24)\n",
      "go to right subtree Node(25)\n",
      "Find Node == value 25\n",
      "node has no left child\n",
      "Go up 1 level Node(24)\n",
      "Go up 1 level Node(26)\n",
      "Go up 1 level Node(27)\n",
      "Go up 1 level Node(23)\n",
      "Go up 1 level Node(15)\n"
     ]
    },
    {
     "data": {
      "text/plain": [
       "TREE STRUCTURE\n",
       "Node(15)\n",
       "Node(8)|Node(23)\n",
       "Node(5)|<empty>|Node(19)|Node(27)\n",
       "Node(4)|Node(6)|<empty>|Node(21)|Node(26)|Node(32)\n",
       "<empty>|<empty>|<empty>|<empty>|Node(20)|<empty>|Node(24)|<empty>|Node(28)|<empty>\n",
       "<empty>|<empty>|<empty>|<empty>|<empty>|Node(29)\n",
       "<empty>|<empty>"
      ]
     },
     "execution_count": 5,
     "metadata": {},
     "output_type": "execute_result"
    }
   ],
   "source": [
    "# Delete Leaf\n",
    "tree.delete(25)\n",
    "tree"
   ]
  },
  {
   "cell_type": "code",
   "execution_count": 6,
   "metadata": {},
   "outputs": [
    {
     "name": "stdout",
     "output_type": "stream",
     "text": [
      "go to right subtree Node(23)\n",
      "go to left subtree Node(19)\n",
      "Find Node == value 19\n",
      "node has no left child\n",
      "Go up 1 level Node(23)\n",
      "Go up 1 level Node(15)\n"
     ]
    },
    {
     "data": {
      "text/plain": [
       "TREE STRUCTURE\n",
       "Node(15)\n",
       "Node(8)|Node(23)\n",
       "Node(5)|<empty>|Node(21)|Node(27)\n",
       "Node(4)|Node(6)|Node(20)|<empty>|Node(26)|Node(32)\n",
       "<empty>|<empty>|<empty>|<empty>|<empty>|<empty>|Node(24)|<empty>|Node(28)|<empty>\n",
       "<empty>|<empty>|<empty>|Node(29)\n",
       "<empty>|<empty>"
      ]
     },
     "execution_count": 6,
     "metadata": {},
     "output_type": "execute_result"
    }
   ],
   "source": [
    "# Delete node with right child and the child also has children\n",
    "tree.delete(19)\n",
    "tree"
   ]
  },
  {
   "cell_type": "code",
   "execution_count": 7,
   "metadata": {},
   "outputs": [
    {
     "name": "stdout",
     "output_type": "stream",
     "text": [
      "go to left subtree Node(8)\n",
      "Find Node == value 8\n",
      "node has no right child\n",
      "Go up 1 level Node(15)\n"
     ]
    },
    {
     "data": {
      "text/plain": [
       "TREE STRUCTURE\n",
       "Node(15)\n",
       "Node(5)|Node(23)\n",
       "Node(4)|Node(6)|Node(21)|Node(27)\n",
       "<empty>|<empty>|<empty>|<empty>|Node(20)|<empty>|Node(26)|Node(32)\n",
       "<empty>|<empty>|Node(24)|<empty>|Node(28)|<empty>\n",
       "<empty>|<empty>|<empty>|Node(29)\n",
       "<empty>|<empty>"
      ]
     },
     "execution_count": 7,
     "metadata": {},
     "output_type": "execute_result"
    }
   ],
   "source": [
    "# Delete node with left child and the child also has children\n",
    "tree.delete(8)\n",
    "tree"
   ]
  },
  {
   "cell_type": "code",
   "execution_count": 8,
   "metadata": {},
   "outputs": [
    {
     "name": "stdout",
     "output_type": "stream",
     "text": [
      "go to right subtree Node(23)\n",
      "go to right subtree Node(27)\n",
      "Find Node == value 27\n",
      "node has 2 children\n",
      "go to left subtree Node(28)\n",
      "Find Node == value 28\n",
      "node has no left child\n",
      "Go up 1 level Node(32)\n",
      "Go up 1 level Node(28)\n",
      "Go up 1 level Node(23)\n",
      "Go up 1 level Node(15)\n"
     ]
    },
    {
     "data": {
      "text/plain": [
       "TREE STRUCTURE\n",
       "Node(15)\n",
       "Node(5)|Node(23)\n",
       "Node(4)|Node(6)|Node(21)|Node(28)\n",
       "<empty>|<empty>|<empty>|<empty>|Node(20)|<empty>|Node(26)|Node(32)\n",
       "<empty>|<empty>|Node(24)|<empty>|Node(29)|<empty>\n",
       "<empty>|<empty>|<empty>|<empty>"
      ]
     },
     "execution_count": 8,
     "metadata": {},
     "output_type": "execute_result"
    }
   ],
   "source": [
    "# Delete node with 2 children and children also have children\n",
    "tree.delete(27)\n",
    "tree"
   ]
  },
  {
   "cell_type": "code",
   "execution_count": 9,
   "metadata": {},
   "outputs": [
    {
     "name": "stdout",
     "output_type": "stream",
     "text": [
      "Find Node == value 15\n",
      "node has 2 children\n",
      "go to left subtree Node(21)\n",
      "go to left subtree Node(20)\n",
      "Find Node == value 20\n",
      "node has no left child\n",
      "Go up 1 level Node(21)\n",
      "Go up 1 level Node(23)\n",
      "Go up 1 level Node(20)\n"
     ]
    },
    {
     "data": {
      "text/plain": [
       "TREE STRUCTURE\n",
       "Node(20)\n",
       "Node(5)|Node(23)\n",
       "Node(4)|Node(6)|Node(21)|Node(28)\n",
       "<empty>|<empty>|<empty>|<empty>|<empty>|<empty>|Node(26)|Node(32)\n",
       "Node(24)|<empty>|Node(29)|<empty>\n",
       "<empty>|<empty>|<empty>|<empty>"
      ]
     },
     "execution_count": 9,
     "metadata": {},
     "output_type": "execute_result"
    }
   ],
   "source": [
    "# Delete root node with 2 children and children also have children\n",
    "tree.delete(15)\n",
    "tree"
   ]
  },
  {
   "cell_type": "code",
   "execution_count": 10,
   "metadata": {},
   "outputs": [],
   "source": [
    "'''\n",
    "Reference Iterative Approach, failed\n",
    "'''\n",
    "\n",
    "def delete(root,value):\n",
    "        if root is None: #tree is empty\n",
    "            return False\n",
    "        \n",
    "        node = root\n",
    "        parent = None\n",
    "        s = ''\n",
    "        while node: \n",
    "            s += '->'+str(node)\n",
    "            print(s)\n",
    "            if node.value == value:\n",
    "                if node.left == None and node.right == None: # node has no child, node is leaf\n",
    "                    \n",
    "                    if parent is None:\n",
    "                        print('Node is root')\n",
    "                        root = None # root is deleted\n",
    "                    else:\n",
    "                        print('Node is leaf')\n",
    "                        if parent.left == node: \n",
    "                            parent.left = None\n",
    "                        elif parent.right == node:\n",
    "                            parent.right = None\n",
    "                    return True\n",
    "                    \n",
    "                elif (node.left and node.right): #node has 2 children\n",
    "                    '''\n",
    "                    find inorder successor of right subtree, copy successor to node, \n",
    "                    attach the right node of node to successor if successor doesn't have right child, \n",
    "                    else attach the right node of node to successor's right child\n",
    "                    '''\n",
    "                    print('Node has 2 children')\n",
    "                    \n",
    "                    delnode = node.right\n",
    "                    delnode_parent = node\n",
    "                    while delnode.left:\n",
    "                        delnode_parent = delnode\n",
    "                        delnode = delnode.left\n",
    "                    if not delnode.right: #delnode is leaf, copy delnode to node, delete delnode\n",
    "                        print ('delnode is leaf')\n",
    "                        node.value = delnode.value\n",
    "                        delnode = None\n",
    "                    else:\n",
    "                        print ('delnode has right child')\n",
    "                        node.value = delnode.value\n",
    "                        delnode_parent.right = delnode.right\n",
    "                    return True\n",
    "                        \n",
    "                else: #node has only 1 child\n",
    "                    if node.left:\n",
    "                        print('node has left child')\n",
    "                        parent.left = node.left\n",
    "                        node = None\n",
    "                        \n",
    "                    elif node.right:\n",
    "                        print('node has right child')\n",
    "                        parent.right = node.right\n",
    "                        node = None\n",
    "                    \n",
    "                    return True\n",
    "                        \n",
    "            elif value < node.value: # go to left child\n",
    "                parent = node\n",
    "                node = node.left\n",
    "                \n",
    "            elif value > node.value: # got to right child\n",
    "                parent = node\n",
    "                node = node.right\n",
    "                \n",
    "        if node is None:\n",
    "            return False"
   ]
  },
  {
   "cell_type": "code",
   "execution_count": null,
   "metadata": {},
   "outputs": [],
   "source": []
  }
 ],
 "metadata": {
  "kernelspec": {
   "display_name": "Python 3",
   "language": "python",
   "name": "python3"
  },
  "language_info": {
   "codemirror_mode": {
    "name": "ipython",
    "version": 3
   },
   "file_extension": ".py",
   "mimetype": "text/x-python",
   "name": "python",
   "nbconvert_exporter": "python",
   "pygments_lexer": "ipython3",
   "version": "3.8.2"
  }
 },
 "nbformat": 4,
 "nbformat_minor": 2
}
