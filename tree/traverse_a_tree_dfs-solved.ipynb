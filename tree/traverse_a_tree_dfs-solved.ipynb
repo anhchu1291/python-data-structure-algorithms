{
 "cells": [
  {
   "cell_type": "markdown",
   "metadata": {},
   "source": [
    "## Traverse a tree (depth first search)\n",
    "\n",
    "Traversing a tree means \"visiting\" all the nodes in the tree once.  Unlike an array or linked list, there's more than one way to walk through a tree, starting from the root node.  \n",
    "\n",
    "Traversing a tree is helpful for printing out all the values stored in the tree, as well as searching for a value in a tree, inserting into or deleting values from the tree.  There's depth first search and breadth first search.\n",
    "\n",
    "Depth first search has 3 types: pre-order, in-order, and post-order.  \n",
    "\n",
    "Let's walk through pre-order traversal by hand first, and then try it out in code."
   ]
  },
  {
   "cell_type": "markdown",
   "metadata": {},
   "source": [
    "## Creating a sample tree\n",
    "\n",
    "We'll create a tree that looks like the following:"
   ]
  },
  {
   "cell_type": "markdown",
   "metadata": {},
   "source": [
    "![tree image](images/tree_01.png \"Tree\")"
   ]
  },
  {
   "cell_type": "code",
   "execution_count": 119,
   "metadata": {},
   "outputs": [],
   "source": [
    "class Node:\n",
    "    def __init__(self,value):\n",
    "        self.value = value\n",
    "        self.left = None\n",
    "        self.right = None\n",
    "    def set_left_child(self,value):\n",
    "        self.left = value\n",
    "    def set_right_child(self,value):\n",
    "        self.right = value\n",
    "    def has_left_child(self):\n",
    "        return self.left is not None\n",
    "    def has_right_child(self):\n",
    "        return self.right is not None\n",
    "    def __repr__(self):\n",
    "        return str(f'Node({self.value})')"
   ]
  },
  {
   "cell_type": "code",
   "execution_count": 147,
   "metadata": {},
   "outputs": [],
   "source": [
    "class Tree:\n",
    "    def __init__(self,value):\n",
    "        self.root = Node(value)\n",
    "        #self.visit_order = []\n",
    "    def get_root(self):\n",
    "        return self.root"
   ]
  },
  {
   "cell_type": "code",
   "execution_count": 128,
   "metadata": {},
   "outputs": [
    {
     "data": {
      "text/plain": [
       "Node(apple)"
      ]
     },
     "execution_count": 128,
     "metadata": {},
     "output_type": "execute_result"
    }
   ],
   "source": [
    "node = Node('apple')\n",
    "node"
   ]
  },
  {
   "cell_type": "code",
   "execution_count": 129,
   "metadata": {},
   "outputs": [
    {
     "name": "stdout",
     "output_type": "stream",
     "text": [
      "***BUILD TREE***\n"
     ]
    }
   ],
   "source": [
    "print('***BUILD TREE***')\n",
    "tree = Tree('apple')\n",
    "tree.get_root().set_left_child(Node('banana'))\n",
    "tree.get_root().left.set_left_child(Node('dates'))\n",
    "tree.get_root().left.set_right_child(Node('lemon'))\n",
    "tree.get_root().left.left.set_left_child(Node('guava'))\n",
    "tree.get_root().left.left.set_right_child(Node('jackfruit'))\n",
    "tree.get_root().set_right_child(Node('cherry'))\n",
    "tree.get_root().right.set_left_child(Node('berry'))\n",
    "tree.get_root().right.set_right_child(Node('strawberry'))"
   ]
  },
  {
   "cell_type": "code",
   "execution_count": 130,
   "metadata": {},
   "outputs": [
    {
     "data": {
      "text/plain": [
       "<__main__.Tree at 0x1827ae41460>"
      ]
     },
     "execution_count": 130,
     "metadata": {},
     "output_type": "execute_result"
    }
   ],
   "source": [
    "tree"
   ]
  },
  {
   "cell_type": "markdown",
   "metadata": {},
   "source": [
    "## Depth first, pre-order traversal \n",
    "pre-order traversal of the tree would visit the nodes in this order: left first then right from parent to child\n",
    "\n",
    "apple, banana, dates, guava, lemon, cherry, berry, strawberry"
   ]
  },
  {
   "cell_type": "code",
   "execution_count": 135,
   "metadata": {},
   "outputs": [],
   "source": [
    "# implement a Stack with list\n",
    "class Stack:\n",
    "    def __init__(self):\n",
    "        self.list = []\n",
    "    def is_empty(self):\n",
    "        return len(self.list)==0\n",
    "    def pop(self):\n",
    "        if self.is_empty():\n",
    "            return\n",
    "        element = self.list.pop()\n",
    "        return element\n",
    "    def push(self,value):\n",
    "        self.list.append(value)\n",
    "    def __repr__(self):\n",
    "        if self.is_empty():\n",
    "            return \"Stack is empty\"\n",
    "        else:\n",
    "            s = \"Top of Stack \\n-------------\\n\"\n",
    "            s += \"\\n-------------\\n\".join([val for val in self.list[::-1]])\n",
    "            s += (\"\\n-------------\\nBottom of Stack\")\n",
    "            return s\n",
    "    def __str__(self):\n",
    "        if self.is_empty():\n",
    "            return \"Stack is empty\"\n",
    "        else:\n",
    "            s = \"Top of Stack \\n-------------\\n\"\n",
    "            s += \"\\n-------------\\n\".join([val for val in self.list[::-1]])\n",
    "            s += (\"\\n-------------\\nBottom of Stack\")\n",
    "            return s\n",
    "            "
   ]
  },
  {
   "cell_type": "code",
   "execution_count": 136,
   "metadata": {},
   "outputs": [
    {
     "name": "stdout",
     "output_type": "stream",
     "text": [
      "Top of Stack \n",
      "-------------\n",
      "dates\n",
      "-------------\n",
      "cherry\n",
      "-------------\n",
      "banana\n",
      "-------------\n",
      "apple\n",
      "-------------\n",
      "Bottom of Stack\n",
      "\n",
      "\n",
      "dates\n",
      "\n",
      "\n"
     ]
    },
    {
     "data": {
      "text/plain": [
       "Top of Stack \n",
       "-------------\n",
       "cherry\n",
       "-------------\n",
       "banana\n",
       "-------------\n",
       "apple\n",
       "-------------\n",
       "Bottom of Stack"
      ]
     },
     "execution_count": 136,
     "metadata": {},
     "output_type": "execute_result"
    }
   ],
   "source": [
    "# check Stack\n",
    "stack = Stack()\n",
    "stack.push(\"apple\")\n",
    "stack.push(\"banana\")\n",
    "stack.push(\"cherry\")\n",
    "stack.push(\"dates\")\n",
    "print(stack)\n",
    "print(\"\\n\")\n",
    "print(stack.pop())\n",
    "print(\"\\n\")\n",
    "stack"
   ]
  },
  {
   "cell_type": "markdown",
   "metadata": {},
   "source": [
    "## task 01: pre-order with stack\n",
    "1. create an empty stack and push root node to stack\n",
    "2. while stack is not empty:\n",
    "   - pop item from stack \n",
    "   - push right child of popped item to stack \n",
    "   - push left child of popped item to stack \n",
    "\n",
    "**Note: right child is pushed first to make sure left child is processed first**"
   ]
  },
  {
   "cell_type": "code",
   "execution_count": 137,
   "metadata": {},
   "outputs": [],
   "source": [
    "def pre_order_with_stack(tree):\n",
    "    node = tree.get_root()\n",
    "    stack = Stack()\n",
    "    visit_order = []\n",
    "    stack.push(node) #push root to stack\n",
    "    if node: \n",
    "        while not stack.is_empty():\n",
    "            node = stack.pop()\n",
    "            visit_order.append(node.value)\n",
    "            if node.has_right_child(): \n",
    "                stack.push(node.right)\n",
    "            if node.has_left_child():\n",
    "                stack.push(node.left)\n",
    "    return visit_order"
   ]
  },
  {
   "cell_type": "code",
   "execution_count": 138,
   "metadata": {},
   "outputs": [
    {
     "data": {
      "text/plain": [
       "['apple',\n",
       " 'banana',\n",
       " 'dates',\n",
       " 'guava',\n",
       " 'jackfruit',\n",
       " 'lemon',\n",
       " 'cherry',\n",
       " 'berry',\n",
       " 'strawberry']"
      ]
     },
     "execution_count": 138,
     "metadata": {},
     "output_type": "execute_result"
    }
   ],
   "source": [
    "# check pre-order traversal\n",
    "pre_order_with_stack(tree)"
   ]
  },
  {
   "cell_type": "markdown",
   "metadata": {},
   "source": [
    "## task 02: pre-order traversal with recursion\n",
    "\n",
    "Use recursion and perform pre_order traversal."
   ]
  },
  {
   "cell_type": "code",
   "execution_count": 139,
   "metadata": {},
   "outputs": [],
   "source": [
    "def pre_order_recursion(tree):\n",
    "    visit_order = []\n",
    "    node = tree.get_root()\n",
    "    return traverse(node, visit_order)\n",
    "\n",
    "def traverse(node, visit_order):\n",
    "    if node: \n",
    "        visit_order.append(node.value)\n",
    "        if node.has_left_child():\n",
    "            traverse(node.left,visit_order)\n",
    "        if node.has_right_child():\n",
    "            traverse(node.right,visit_order)\n",
    "    return visit_order\n"
   ]
  },
  {
   "cell_type": "code",
   "execution_count": 140,
   "metadata": {},
   "outputs": [
    {
     "data": {
      "text/plain": [
       "['apple',\n",
       " 'banana',\n",
       " 'dates',\n",
       " 'guava',\n",
       " 'jackfruit',\n",
       " 'lemon',\n",
       " 'cherry',\n",
       " 'berry',\n",
       " 'strawberry']"
      ]
     },
     "execution_count": 140,
     "metadata": {},
     "output_type": "execute_result"
    }
   ],
   "source": [
    "pre_order_recursion(tree)"
   ]
  },
  {
   "cell_type": "code",
   "execution_count": 141,
   "metadata": {},
   "outputs": [],
   "source": [
    "def reverse_pre_order_recursion(tree):\n",
    "    visit_order = []\n",
    "    node = tree.get_root()\n",
    "    return traverse(node, visit_order)\n",
    "\n",
    "def traverse(node, visit_order):\n",
    "    if node: \n",
    "        visit_order.append(node.value)\n",
    "        if node.has_right_child():\n",
    "            traverse(node.right,visit_order)\n",
    "        if node.has_left_child():\n",
    "            traverse(node.left,visit_order)\n",
    "    return visit_order\n"
   ]
  },
  {
   "cell_type": "code",
   "execution_count": 142,
   "metadata": {},
   "outputs": [
    {
     "data": {
      "text/plain": [
       "['apple',\n",
       " 'cherry',\n",
       " 'strawberry',\n",
       " 'berry',\n",
       " 'banana',\n",
       " 'lemon',\n",
       " 'dates',\n",
       " 'jackfruit',\n",
       " 'guava']"
      ]
     },
     "execution_count": 142,
     "metadata": {},
     "output_type": "execute_result"
    }
   ],
   "source": [
    "reverse_pre_order_recursion(tree)"
   ]
  },
  {
   "cell_type": "markdown",
   "metadata": {},
   "source": [
    "## task 03: in-order traversal recursion\n",
    "\n",
    "We want to traverse the left subtree, then visit the node, and then traverse the right subtree.\n",
    "\n",
    "**hint**: it's very similar in structure to the pre-order traversal."
   ]
  },
  {
   "cell_type": "code",
   "execution_count": 143,
   "metadata": {},
   "outputs": [],
   "source": [
    "# define in-order traversal\n",
    "def in_order_recursion(tree):\n",
    "    node = tree.get_root()\n",
    "    visit_order = []\n",
    "    return traverse(node,visit_order)\n",
    "\n",
    "def traverse(node, visit_order):\n",
    "    if node: \n",
    "        if node.has_left_child():\n",
    "            traverse(node.left,visit_order)\n",
    "        visit_order.append(node.value)\n",
    "        if node.has_right_child():\n",
    "            traverse(node.right,visit_order)  \n",
    "    return visit_order\n"
   ]
  },
  {
   "cell_type": "code",
   "execution_count": 144,
   "metadata": {},
   "outputs": [
    {
     "data": {
      "text/plain": [
       "['guava',\n",
       " 'dates',\n",
       " 'jackfruit',\n",
       " 'banana',\n",
       " 'lemon',\n",
       " 'apple',\n",
       " 'berry',\n",
       " 'cherry',\n",
       " 'strawberry']"
      ]
     },
     "execution_count": 144,
     "metadata": {},
     "output_type": "execute_result"
    }
   ],
   "source": [
    "# check solution: should get: ['guava',dates', 'banana','lemon', 'apple', 'berry',cherry','strawberry']\n",
    "in_order_recursion(tree)"
   ]
  },
  {
   "cell_type": "markdown",
   "metadata": {},
   "source": [
    "## task 04: post-order traversal\n",
    "\n",
    "Traverse left subtree, then right subtree, and then visit the node."
   ]
  },
  {
   "cell_type": "code",
   "execution_count": 145,
   "metadata": {},
   "outputs": [],
   "source": [
    "# define post_order traversal\n",
    "def post_order_recursion(tree):\n",
    "    node = tree.get_root()\n",
    "    visit_order = []\n",
    "    return traverse(node, visit_order)\n",
    "\n",
    "def traverse(node,visit_order):\n",
    "    if node:\n",
    "        if node.has_left_child():\n",
    "            traverse(node.left,visit_order)\n",
    "        if node.has_right_child():\n",
    "            traverse(node.right,visit_order)\n",
    "        visit_order.append(node.value)\n",
    "    return visit_order"
   ]
  },
  {
   "cell_type": "code",
   "execution_count": 146,
   "metadata": {},
   "outputs": [
    {
     "data": {
      "text/plain": [
       "['guava',\n",
       " 'jackfruit',\n",
       " 'dates',\n",
       " 'lemon',\n",
       " 'banana',\n",
       " 'berry',\n",
       " 'strawberry',\n",
       " 'cherry',\n",
       " 'apple']"
      ]
     },
     "execution_count": 146,
     "metadata": {},
     "output_type": "execute_result"
    }
   ],
   "source": [
    "post_order_recursion(tree)"
   ]
  },
  {
   "cell_type": "code",
   "execution_count": null,
   "metadata": {},
   "outputs": [],
   "source": []
  }
 ],
 "metadata": {
  "kernelspec": {
   "display_name": "Python 3",
   "language": "python",
   "name": "python3"
  },
  "language_info": {
   "codemirror_mode": {
    "name": "ipython",
    "version": 3
   },
   "file_extension": ".py",
   "mimetype": "text/x-python",
   "name": "python",
   "nbconvert_exporter": "python",
   "pygments_lexer": "ipython3",
   "version": "3.8.2"
  }
 },
 "nbformat": 4,
 "nbformat_minor": 2
}
