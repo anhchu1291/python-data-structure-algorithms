{
 "cells": [
  {
   "cell_type": "markdown",
   "metadata": {},
   "source": [
    "## Implement Trie (Prefix Tree) with Class\n",
    "\n",
    "### TrieNode class\n",
    "Each node of Trie has 2 attributes: a dictionary of the children, and whether that node is end of a word\n",
    "* Attributes: children (dict), is_word (bolean)\n",
    "\n",
    "\n",
    "### Trie class\n",
    "1. Attributes: root(TrieNode)\n",
    "2. Methods:\n",
    "    * add(word) -> add word to Trie, return None\n",
    "    * exists(word) -> check if word exists, return bolean\n",
    "    * startsWith(prefix) -> return words that starts with the prefix input"
   ]
  },
  {
   "cell_type": "code",
   "execution_count": 99,
   "metadata": {},
   "outputs": [],
   "source": [
    "class TrieNode:\n",
    "    def __init__(self):\n",
    "        self.is_word = False\n",
    "        self.children = {}\n",
    "        \n",
    "class Trie:\n",
    "    def __init__(self):\n",
    "        self.root = TrieNode()\n",
    "        \n",
    "    def add(self, word):\n",
    "        node = self.root\n",
    "        for char in word:\n",
    "            #print(char)\n",
    "            if char not in node.children: \n",
    "                #print(node.children)\n",
    "                node.children[char] = TrieNode()\n",
    "            node = node.children[char]\n",
    "        #print(self.root.children)\n",
    "        node.is_word = True\n",
    "        \n",
    "    def exists(self, word):\n",
    "        node = self.root\n",
    "        for char in word:\n",
    "            if char not in node.children:\n",
    "                return False\n",
    "            else:\n",
    "                node = node.children[char]\n",
    "        return node.is_word\n",
    "        "
   ]
  },
  {
   "cell_type": "code",
   "execution_count": 100,
   "metadata": {},
   "outputs": [],
   "source": [
    "trie = Trie()\n",
    "trie.add('add')\n",
    "trie.add('addy')\n",
    "trie.add('bear')\n",
    "trie.add('yes')"
   ]
  },
  {
   "cell_type": "code",
   "execution_count": 104,
   "metadata": {},
   "outputs": [
    {
     "name": "stdout",
     "output_type": "stream",
     "text": [
      "\"bear\" is a word.\n",
      "\"goo\" is a word.\n",
      "\"good\" is a word.\n",
      "\"goos\" is NOT a word.\n"
     ]
    }
   ],
   "source": [
    "word_list = ['apple', 'bear', 'goo', 'good', 'goodbye', 'goods', 'goodwill', 'gooses'  ,'zebra']\n",
    "word_trie = Trie()\n",
    "\n",
    "# Add words\n",
    "for word in word_list:\n",
    "    word_trie.add(word)\n",
    "\n",
    "# Test words\n",
    "test_words = ['bear', 'goo', 'good', 'goos']\n",
    "for word in test_words:\n",
    "    if word_trie.exists(word):\n",
    "        print('\"{}\" is a word.'.format(word))\n",
    "    else:\n",
    "        print('\"{}\" is NOT a word.'.format(word))"
   ]
  },
  {
   "cell_type": "markdown",
   "metadata": {},
   "source": [
    "## Implement Trie with default Dict\n",
    "The Python defaultdict type behaves almost exactly like a regular Python dictionary, but if you try to access or modify a missing key, then defaultdict will automatically create the key and generate a default value for it. This makes defaultdict a valuable option for handling missing keys in dictionaries.\n"
   ]
  },
  {
   "cell_type": "code",
   "execution_count": 125,
   "metadata": {},
   "outputs": [],
   "source": [
    "from collections import defaultdict\n",
    "class TrieNode:\n",
    "    '''\n",
    "    # as we have used Default Dict for children, no longer need to check if char in word, \n",
    "    # default dict will create the missing char as new key\n",
    "    '''\n",
    "    def __init__(self):\n",
    "        self.is_word = False\n",
    "        self.children = defaultdict(TrieNode)\n",
    "\n",
    "\n",
    "class Trie:\n",
    "    def __init__(self):\n",
    "        self.root = TrieNode()\n",
    "        \n",
    "    def add(self, word):\n",
    "        node = self.root\n",
    "        for char in word:\n",
    "            #node.children[char] = TrieNode()\n",
    "            node = node.children[char]\n",
    "        node.is_word = True\n",
    "        \n",
    "    def exists(self, word):\n",
    "        node = self.root\n",
    "        for char in word:\n",
    "            if char not in node.children:\n",
    "                return False\n",
    "            node = node.children[char]\n",
    "        return node.is_word\n",
    "    "
   ]
  },
  {
   "cell_type": "code",
   "execution_count": null,
   "metadata": {},
   "outputs": [],
   "source": []
  }
 ],
 "metadata": {
  "kernelspec": {
   "display_name": "Python 3",
   "language": "python",
   "name": "python3"
  },
  "language_info": {
   "codemirror_mode": {
    "name": "ipython",
    "version": 3
   },
   "file_extension": ".py",
   "mimetype": "text/x-python",
   "name": "python",
   "nbconvert_exporter": "python",
   "pygments_lexer": "ipython3",
   "version": "3.8.2"
  }
 },
 "nbformat": 4,
 "nbformat_minor": 4
}
