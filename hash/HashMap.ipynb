{
 "cells": [
  {
   "cell_type": "markdown",
   "metadata": {},
   "source": [
    "\n",
    "## Implement a HashMap\n",
    "\n",
    "1. put: enter value into HashMap\n",
    "2. get: obtain value from Hashmap\n",
    "3. get_bucket_index: calculate index for each bucket based on hashcode\n",
    "4. get_hash_code: calculate hashcode using hash function\n",
    "5. size: return number of entries\n",
    "\n",
    "### Hash function for string\n",
    "\n",
    "For a string, say `abcde`, a very effective function is treating this as number of prime number base `p`. \n",
    "Let's elaborate this statement. \n",
    "\n",
    "For a number, say `578`, we can represent this number in base 10 number system as $$5*10^2 + 7*10^1 + 8*10^0$$\n",
    "\n",
    "Similarly, we can treat `abcde` in base `p` as $$a * p^4 + b * p^3 + c * p^2 + d * p^1 + e * p^0$$\n",
    "\n",
    "Here, we replace each character with its corresponding ASCII value. \n",
    "\n",
    "A lot of research goes into figuring out good hash functions and this hash function is one of the most popular functions used for strings. We use prime numbers because the provide a good distribution. The most common prime numbers used for this function are 31 and 37.\n",
    "\n",
    "### Collison Handling\n",
    "\n",
    "1. **Separate chaining** - Separate chaining is a clever technique where we use the same bucket to store multiple objects. The bucket in this case will store a linked list of key-value pairs. Every bucket has it's own separate chain of linked list nodes.\n",
    "\n",
    "\n",
    "2. **Open Addressing** - In open addressing, we do the following:\n",
    " * If, after getting the bucket index,  the bucket is empty, we store the object in that particular bucket\n",
    "\n",
    " * If the bucket is not empty, we find an alternate bucket index by using another function which modifies the current hash code to give a new code. This process of finding an alternate bucket index is called **probing**. A few probing techniques are - linear probing, quddratic probing, or double hashing. \n",
    " \n",
    "\n",
    "***Separate chaining:\n",
    "    In case of collision, the `put()` function uses the same bucket to store a linked list of key-value pairs. \n",
    "    Every bucket will have it's own separate chain of linked list nodes.***\n",
    "    \n",
    "    If the key is a new one, hence not found in the chain (LinkedList), then following two cases arise:\n",
    "         1. The key has generated a new bucket_index\n",
    "         2. The key has generated an existing bucket_index. \n",
    "            This event is a Collision, i.e., two different keys have same bucket_index.\n",
    "\n",
    "    In both the cases, we will prepend the new node (key, value) at the beginning (head) of the chain (LinkedList).\n",
    "    Remember that each `bucket` at position `bucket_index` is actually a chain (LinkedList) with 1 or more nodes.\n",
    "    \n",
    "<img style=\"float: center;\" src=\"bucket2.png\"><br>"
   ]
  },
  {
   "cell_type": "markdown",
   "metadata": {},
   "source": [
    "### Practical Consideration for Time Complexity  of `put` and `get` Operation\n",
    "**Note:** Theoretically, the worst case time complexity of `put` and `get` operations of a HashMap can be $O(\\dfrac{n}{b}) \\approx O(n)$, when $b < < n$ . However, our hashing functions are sophisticated enough that in real-life we easily avoid collisions and never hit `O(n)`. Rather, for the most part, we can safely assume that the time complexity of `put` and `get` operations will be `O(1)`. \n",
    "\n",
    "Therefore, when you are asked to solve any practice problem involving HashMaps, assume the worst case time complexity for `put` and `get` operations to be `O(1)`."
   ]
  },
  {
   "cell_type": "code",
   "execution_count": 3,
   "metadata": {},
   "outputs": [],
   "source": [
    "# Implement HashMap with Array\n",
    "class HashMap:\n",
    "    def __init__(self, size = 10):\n",
    "        self.bucket_array = [None for _ in range(size)]\n",
    "        self.p = 31 # prime number for hashfunction\n",
    "        self.num_entries = 0 \n",
    "    \n",
    "    def size(self):\n",
    "        return self.num_entries #number of entries in hashMap\n",
    "    \n",
    "    def get_bucket_index(self, key):\n",
    "        return self.get_hash_code(key)\n",
    "        \n",
    "    def get_hash_code(self, key):\n",
    "        hashcode = 0\n",
    "        i = len(key)-1\n",
    "        number_bucket = len(self.bucket_array)\n",
    "        \n",
    "        for char in key:\n",
    "            coef = (self.p**i)%number_bucket # compression\n",
    "            hashcode += ord(char)*coef # ord is to obtain the ASCII value of hash function\n",
    "            i -= 1\n",
    "        # compress hashcode\n",
    "        return hashcode % number_bucket # compress twice\n",
    "        \n",
    "    def put(self, key, value):\n",
    "        ''' \n",
    "        O(n/b): n is the number of entries, b is the number of buckets in the HashMap\n",
    "        n/b is the load factor and should not be more than 0.7 ideally. number of entries < number of buckets\n",
    "        If load factor > 0.7 => rehashing by increase the number of buckets and recalculate bucket index\n",
    "        '''\n",
    "        pass\n",
    "    \n",
    "    def get(self, key):\n",
    "        '''\n",
    "        O(n/b) runtime. In practice, put and get function can be close to O(1)\n",
    "        '''\n",
    "        pass\n",
    "    \n",
    "    def delete(self, key):\n",
    "        '''\n",
    "        O(n/b) and no resizing the bucket size\n",
    "        '''\n",
    "        pass"
   ]
  },
  {
   "cell_type": "code",
   "execution_count": 10,
   "metadata": {},
   "outputs": [
    {
     "name": "stdout",
     "output_type": "stream",
     "text": [
      "2\n",
      "6\n",
      "6\n",
      "2\n"
     ]
    }
   ],
   "source": [
    "hm = HashMap()\n",
    "print(hm.get_bucket_index('one'))\n",
    "print(hm.get_bucket_index('two'))\n",
    "print(hm.get_bucket_index('three'))\n",
    "print(hm.get_bucket_index('neo'))"
   ]
  },
  {
   "cell_type": "code",
   "execution_count": null,
   "metadata": {},
   "outputs": [],
   "source": []
  }
 ],
 "metadata": {
  "kernelspec": {
   "display_name": "Python 3",
   "language": "python",
   "name": "python3"
  },
  "language_info": {
   "codemirror_mode": {
    "name": "ipython",
    "version": 3
   },
   "file_extension": ".py",
   "mimetype": "text/x-python",
   "name": "python",
   "nbconvert_exporter": "python",
   "pygments_lexer": "ipython3",
   "version": "3.8.2"
  }
 },
 "nbformat": 4,
 "nbformat_minor": 4
}
