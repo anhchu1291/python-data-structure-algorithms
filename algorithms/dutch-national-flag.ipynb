{
 "cells": [
  {
   "cell_type": "raw",
   "metadata": {},
   "source": [
    "Sort an array consist of only 0, 1, 2. "
   ]
  },
  {
   "cell_type": "code",
   "execution_count": 14,
   "metadata": {},
   "outputs": [],
   "source": [
    "def sort_012(arr):\n",
    "    idx0 = 0\n",
    "    idx2 = len(arr)-1\n",
    "    i = 0\n",
    "    while i <= idx2:\n",
    "        print(i, idx0, idx2)\n",
    "        if arr[i] == 0:\n",
    "            arr[i] = arr[idx0]\n",
    "            arr[idx0] = 0\n",
    "            i += 0\n",
    "            idx0 += 1\n",
    "        elif arr[i] == 2:\n",
    "            arr[i] = arr[idx2]\n",
    "            arr[idx2] = 2\n",
    "            idx2 -= 1\n",
    "        else:\n",
    "            i += 1\n",
    "        print(arr)\n",
    "    return arr"
   ]
  },
  {
   "cell_type": "code",
   "execution_count": 15,
   "metadata": {},
   "outputs": [
    {
     "name": "stdout",
     "output_type": "stream",
     "text": [
      "0 0 5\n",
      "[0, 1, 0, 2, 1, 2]\n",
      "0 0 4\n",
      "[0, 1, 0, 2, 1, 2]\n",
      "0 1 4\n",
      "[1, 0, 0, 2, 1, 2]\n",
      "0 2 4\n",
      "[1, 0, 0, 2, 1, 2]\n",
      "1 2 4\n",
      "[1, 0, 0, 2, 1, 2]\n",
      "1 3 4\n",
      "[1, 2, 0, 0, 1, 2]\n",
      "1 4 4\n",
      "[1, 1, 0, 0, 2, 2]\n",
      "1 4 3\n",
      "[1, 1, 0, 0, 2, 2]\n",
      "2 4 3\n",
      "[1, 1, 2, 0, 0, 2]\n",
      "2 5 3\n",
      "[1, 1, 0, 2, 0, 2]\n",
      "2 5 2\n",
      "[1, 1, 2, 2, 0, 0]\n",
      "2 6 2\n",
      "[1, 1, 2, 2, 0, 0]\n"
     ]
    },
    {
     "data": {
      "text/plain": [
       "[1, 1, 2, 2, 0, 0]"
      ]
     },
     "execution_count": 15,
     "metadata": {},
     "output_type": "execute_result"
    }
   ],
   "source": [
    "sort_012([2,1,0,2,1,0])"
   ]
  },
  {
   "cell_type": "code",
   "execution_count": 7,
   "metadata": {},
   "outputs": [
    {
     "data": {
      "text/plain": [
       "[0, 0, 0, 0, 0, 0, 0, 0, 0, 0, 0, 1, 1, 1, 1, 1, 1, 2, 2, 2, 2, 2, 2, 2, 2, 2]"
      ]
     },
     "execution_count": 7,
     "metadata": {},
     "output_type": "execute_result"
    }
   ],
   "source": [
    "sort_012([2, 1, 2, 0, 0, 2, 1, 0, 1, 0, 0, 2, 2, 2, 1, 2, 0, 0, 0, 2, 1, 0, 2, 0, 0, 1])"
   ]
  },
  {
   "cell_type": "code",
   "execution_count": 9,
   "metadata": {},
   "outputs": [
    {
     "data": {
      "text/plain": [
       "[0, 0, 0, 0, 0, 0, 1, 1, 1, 1, 1, 1, 2, 2, 2, 2, 2, 2, 2]"
      ]
     },
     "execution_count": 9,
     "metadata": {},
     "output_type": "execute_result"
    }
   ],
   "source": [
    "sort_012([2, 2, 0, 0, 2, 1, 0, 2, 2, 1, 1, 1, 0, 1, 2, 0, 2, 0, 1])"
   ]
  },
  {
   "cell_type": "code",
   "execution_count": null,
   "metadata": {},
   "outputs": [],
   "source": []
  }
 ],
 "metadata": {
  "kernelspec": {
   "display_name": "Python 3",
   "language": "python",
   "name": "python3"
  },
  "language_info": {
   "codemirror_mode": {
    "name": "ipython",
    "version": 3
   },
   "file_extension": ".py",
   "mimetype": "text/x-python",
   "name": "python",
   "nbconvert_exporter": "python",
   "pygments_lexer": "ipython3",
   "version": "3.8.2"
  }
 },
 "nbformat": 4,
 "nbformat_minor": 4
}
