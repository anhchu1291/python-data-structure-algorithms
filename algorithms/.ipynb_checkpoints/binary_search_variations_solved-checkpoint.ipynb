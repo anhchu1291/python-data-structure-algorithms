{
 "cells": [
  {
   "cell_type": "markdown",
   "metadata": {},
   "source": [
    "# Variations on Binary Search \n"
   ]
  },
  {
   "cell_type": "markdown",
   "metadata": {},
   "source": [
    "## Find First\n",
    "\n",
    "The binary search function is guaranteed to return _an_ index for the element you're looking for in an array, but what if the element appears more than once?\n",
    "\n",
    "Consider this array:\n",
    "\n",
    "`[1, 3, 5, 7, 7, 7, 8, 11, 12]`\n",
    "\n",
    "Let's find the number 7:\n",
    "\n",
    "Time Complexity O(logn), space complexity O(1)"
   ]
  },
  {
   "cell_type": "markdown",
   "metadata": {},
   "source": [
    "Write a new function: `find_first()` that uses binary_search to return the first occurence of a target number\n",
    "\n",
    "> don't modify the binary_search()."
   ]
  },
  {
   "cell_type": "code",
   "execution_count": 1,
   "metadata": {},
   "outputs": [],
   "source": [
    "def find_first(target, source):\n",
    "    if len(source) == 0:\n",
    "        return None\n",
    "    return find_first_recursive(target, source, 0, len(source)-1) \n",
    "\n",
    "def find_first_recursive(target, source, start_index, end_index):\n",
    "    mid_index = (start_index + end_index)//2\n",
    "    if start_index > end_index:\n",
    "        return None\n",
    "    elif target == source[mid_index]:\n",
    "        if target == source[mid_index-1] and mid_index!=0:\n",
    "            return find_first_recursive(target, source, start_index, mid_index-1)\n",
    "        else:\n",
    "            return mid_index\n",
    "    elif target > source[mid_index]:\n",
    "        return find_first_recursive(target, source, mid_index+1, end_index)\n",
    "    elif target < source[mid_index]:\n",
    "        return find_first_recursive(target, source, start_index, mid_index-1)\n",
    "        "
   ]
  },
  {
   "cell_type": "code",
   "execution_count": 2,
   "metadata": {},
   "outputs": [
    {
     "name": "stdout",
     "output_type": "stream",
     "text": [
      "3\n",
      "None\n"
     ]
    }
   ],
   "source": [
    "multiple = [1, 3, 5, 7, 7, 7, 8, 11, 12, 13, 14, 15]\n",
    "print(find_first(7, multiple)) # Should return 3\n",
    "print(find_first(9, multiple)) # Should return None"
   ]
  },
  {
   "cell_type": "code",
   "execution_count": 3,
   "metadata": {},
   "outputs": [
    {
     "name": "stdout",
     "output_type": "stream",
     "text": [
      "0\n",
      "None\n"
     ]
    }
   ],
   "source": [
    "multiple = [0,0]\n",
    "print(find_first(0, multiple)) # Should return 0\n",
    "print(find_first(2, multiple)) # Should return None"
   ]
  },
  {
   "cell_type": "code",
   "execution_count": 4,
   "metadata": {},
   "outputs": [
    {
     "name": "stdout",
     "output_type": "stream",
     "text": [
      "13\n",
      "12\n",
      "0\n",
      "4\n",
      "7\n",
      "None\n"
     ]
    }
   ],
   "source": [
    "multiple = [1,1,1,1,3,3,3,4,4,4,6,6,7]\n",
    "print(len(multiple))\n",
    "print(find_first(7, multiple)) # Should return 12\n",
    "print(find_first(1, multiple)) # Should return 0\n",
    "print(find_first(3, multiple)) # Should return 4\n",
    "print(find_first(4, multiple)) # Should return 7\n",
    "print(find_first(5, multiple)) # Should return None\n"
   ]
  },
  {
   "cell_type": "markdown",
   "metadata": {},
   "source": [
    "## Contains\n",
    "\n",
    "The second variation is a function that returns a boolean value indicating whether an element is _present_, but with no information about the location of that element.\n",
    "\n",
    "For example:\n",
    "\n",
    "```python\n",
    "letters = ['a', 'c', 'd', 'f', 'g']\n",
    "print(contains('a', letters)) ## True\n",
    "print(contains('b', letters)) ## False\n",
    "```\n"
   ]
  },
  {
   "cell_type": "code",
   "execution_count": 5,
   "metadata": {},
   "outputs": [
    {
     "name": "stdout",
     "output_type": "stream",
     "text": [
      "True\n",
      "False\n"
     ]
    }
   ],
   "source": [
    "# Loose wrapper for recursive binary search, returning True if the index is found and False if not\n",
    "def contains(target, source):\n",
    "    return find_first(target, source) is not None\n",
    "\n",
    "letters = ['a', 'c', 'd', 'f', 'g']\n",
    "print(contains('a', letters)) ## True\n",
    "print(contains('b', letters)) ## False\n",
    "\n"
   ]
  },
  {
   "cell_type": "code",
   "execution_count": 6,
   "metadata": {},
   "outputs": [
    {
     "name": "stdout",
     "output_type": "stream",
     "text": [
      "True\n",
      "False\n"
     ]
    }
   ],
   "source": [
    "# Native implementation of binary search in the `contains` function.\n",
    "def contains(target, source):\n",
    "    if len(source) == 0:\n",
    "        return False\n",
    "    center = (len(source)-1) // 2\n",
    "    if source[center] == target:\n",
    "        return True\n",
    "    elif source[center] < target:\n",
    "        return contains(target, source[center+1:])\n",
    "    else:\n",
    "        return contains(target, source[:center])\n",
    "\n",
    "letters = ['a', 'c', 'd', 'f', 'g']\n",
    "print(contains('c', letters)) ## True\n",
    "print(contains('b', letters)) ## False\n",
    "\n"
   ]
  },
  {
   "cell_type": "code",
   "execution_count": null,
   "metadata": {},
   "outputs": [],
   "source": []
  }
 ],
 "metadata": {
  "kernelspec": {
   "display_name": "Python 3",
   "language": "python",
   "name": "python3"
  },
  "language_info": {
   "codemirror_mode": {
    "name": "ipython",
    "version": 3
   },
   "file_extension": ".py",
   "mimetype": "text/x-python",
   "name": "python",
   "nbconvert_exporter": "python",
   "pygments_lexer": "ipython3",
   "version": "3.8.2"
  }
 },
 "nbformat": 4,
 "nbformat_minor": 2
}
